{
 "cells": [
  {
   "cell_type": "code",
   "execution_count": 1,
   "metadata": {},
   "outputs": [
    {
     "name": "stdout",
     "output_type": "stream",
     "text": [
      "\n",
      "## You are using the Python ARM Radar Toolkit (Py-ART), an open source\n",
      "## library for working with weather radar data. Py-ART is partly\n",
      "## supported by the U.S. Department of Energy as part of the Atmospheric\n",
      "## Radiation Measurement (ARM) Climate Research Facility, an Office of\n",
      "## Science user facility.\n",
      "##\n",
      "## If you use this software to prepare a publication, please cite:\n",
      "##\n",
      "##     JJ Helmus and SM Collis, JORS 2016, doi: 10.5334/jors.119\n",
      "\n"
     ]
    }
   ],
   "source": [
    "import warnings\n",
    "warnings.filterwarnings('ignore')\n",
    "warnings.filterwarnings('ignore', category=DeprecationWarning)\n",
    "\n",
    "import os\n",
    "os.environ['PROJ_LIB'] = '/home/jhemedinger/anaconda3/envs/precip_env/share/proj/'\n",
    "\n",
    "import numpy as np\n",
    "import matplotlib.pyplot as plt\n",
    "import matplotlib.colors as mcolors\n",
    "from matplotlib.animation import FuncAnimation\n",
    "import glob\n",
    "import pyart \n",
    "import shutil\n",
    "from tint.tracks import Cell_tracks\n",
    "from tint.visualization import animate, embed_mp4_as_gif"
   ]
  },
  {
   "cell_type": "code",
   "execution_count": 2,
   "metadata": {},
   "outputs": [],
   "source": [
    "# Creating custom colormap to use on sat animation and tracking plots\n",
    "# Create by Sam Carani summer 2018\n",
    "\n",
    "vmin = 198\n",
    "vmax = 320\n",
    "lcl = 269.5\n",
    "\n",
    "\n",
    "colormap = pyart.graph.cm_colorblind.HomeyerRainbow\n",
    "colors2 = colormap(np.linspace(0, 1, int(((250-vmin)/(vmax-vmin))*1000)))\n",
    "colors3 = plt.cm.Greys_r(np.linspace(.3, .5, int(((lcl-250)/(vmax-vmin))*1000)))\n",
    "colors4 = plt.cm.Greys_r(np.linspace(.15, .2, int(((vmax-lcl)/(vmax-vmin))*1000)))\n",
    "colors = np.vstack((colors4, colors3, colors2))\n",
    "mymap = mcolors.LinearSegmentedColormap.from_list('my_colormap', colors)"
   ]
  },
  {
   "cell_type": "code",
   "execution_count": 3,
   "metadata": {},
   "outputs": [
    {
     "name": "stderr",
     "output_type": "stream",
     "text": [
      "/home/jhemedinger/anaconda3/envs/goes_env/lib/python3.6/site-packages/pyart/graph/gridmapdisplay.py:72: DeprecationWarning: GridMapDisplay will be switching to Cartopy in the next Py-ART release 1.11.0. Basemap is still optional to use in GridMapDisplayBasemap but there will be no support if an error appears.\n",
      "  DeprecationWarning)\n",
      "/home/jhemedinger/anaconda3/envs/goes_env/lib/python3.6/site-packages/mpl_toolkits/basemap/__init__.py:4759: DeprecationWarning: The truth value of an empty array is ambiguous. Returning False, but in future this will result in an error. Use `array.size > 0` to check that an array is not empty.\n",
      "  if fix_wrap_around and itemindex:\n",
      "/home/jhemedinger/anaconda3/envs/goes_env/lib/python3.6/site-packages/pyart/graph/gridmapdisplay.py:72: DeprecationWarning: GridMapDisplay will be switching to Cartopy in the next Py-ART release 1.11.0. Basemap is still optional to use in GridMapDisplayBasemap but there will be no support if an error appears.\n",
      "  DeprecationWarning)\n",
      "/home/jhemedinger/anaconda3/envs/goes_env/lib/python3.6/site-packages/mpl_toolkits/basemap/__init__.py:4759: DeprecationWarning: The truth value of an empty array is ambiguous. Returning False, but in future this will result in an error. Use `array.size > 0` to check that an array is not empty.\n",
      "  if fix_wrap_around and itemindex:\n",
      "/home/jhemedinger/anaconda3/envs/goes_env/lib/python3.6/site-packages/pyart/graph/gridmapdisplay.py:72: DeprecationWarning: GridMapDisplay will be switching to Cartopy in the next Py-ART release 1.11.0. Basemap is still optional to use in GridMapDisplayBasemap but there will be no support if an error appears.\n",
      "  DeprecationWarning)\n",
      "/home/jhemedinger/anaconda3/envs/goes_env/lib/python3.6/site-packages/mpl_toolkits/basemap/__init__.py:4759: DeprecationWarning: The truth value of an empty array is ambiguous. Returning False, but in future this will result in an error. Use `array.size > 0` to check that an array is not empty.\n",
      "  if fix_wrap_around and itemindex:\n",
      "/home/jhemedinger/anaconda3/envs/goes_env/lib/python3.6/site-packages/pyart/graph/gridmapdisplay.py:72: DeprecationWarning: GridMapDisplay will be switching to Cartopy in the next Py-ART release 1.11.0. Basemap is still optional to use in GridMapDisplayBasemap but there will be no support if an error appears.\n",
      "  DeprecationWarning)\n",
      "/home/jhemedinger/anaconda3/envs/goes_env/lib/python3.6/site-packages/mpl_toolkits/basemap/__init__.py:4759: DeprecationWarning: The truth value of an empty array is ambiguous. Returning False, but in future this will result in an error. Use `array.size > 0` to check that an array is not empty.\n",
      "  if fix_wrap_around and itemindex:\n",
      "/home/jhemedinger/anaconda3/envs/goes_env/lib/python3.6/site-packages/pyart/graph/gridmapdisplay.py:72: DeprecationWarning: GridMapDisplay will be switching to Cartopy in the next Py-ART release 1.11.0. Basemap is still optional to use in GridMapDisplayBasemap but there will be no support if an error appears.\n",
      "  DeprecationWarning)\n",
      "/home/jhemedinger/anaconda3/envs/goes_env/lib/python3.6/site-packages/mpl_toolkits/basemap/__init__.py:4759: DeprecationWarning: The truth value of an empty array is ambiguous. Returning False, but in future this will result in an error. Use `array.size > 0` to check that an array is not empty.\n",
      "  if fix_wrap_around and itemindex:\n",
      "/home/jhemedinger/anaconda3/envs/goes_env/lib/python3.6/site-packages/pyart/graph/gridmapdisplay.py:72: DeprecationWarning: GridMapDisplay will be switching to Cartopy in the next Py-ART release 1.11.0. Basemap is still optional to use in GridMapDisplayBasemap but there will be no support if an error appears.\n",
      "  DeprecationWarning)\n",
      "/home/jhemedinger/anaconda3/envs/goes_env/lib/python3.6/site-packages/mpl_toolkits/basemap/__init__.py:4759: DeprecationWarning: The truth value of an empty array is ambiguous. Returning False, but in future this will result in an error. Use `array.size > 0` to check that an array is not empty.\n",
      "  if fix_wrap_around and itemindex:\n",
      "/home/jhemedinger/anaconda3/envs/goes_env/lib/python3.6/site-packages/pyart/graph/gridmapdisplay.py:72: DeprecationWarning: GridMapDisplay will be switching to Cartopy in the next Py-ART release 1.11.0. Basemap is still optional to use in GridMapDisplayBasemap but there will be no support if an error appears.\n",
      "  DeprecationWarning)\n",
      "/home/jhemedinger/anaconda3/envs/goes_env/lib/python3.6/site-packages/mpl_toolkits/basemap/__init__.py:4759: DeprecationWarning: The truth value of an empty array is ambiguous. Returning False, but in future this will result in an error. Use `array.size > 0` to check that an array is not empty.\n",
      "  if fix_wrap_around and itemindex:\n",
      "/home/jhemedinger/anaconda3/envs/goes_env/lib/python3.6/site-packages/pyart/graph/gridmapdisplay.py:72: DeprecationWarning: GridMapDisplay will be switching to Cartopy in the next Py-ART release 1.11.0. Basemap is still optional to use in GridMapDisplayBasemap but there will be no support if an error appears.\n",
      "  DeprecationWarning)\n",
      "/home/jhemedinger/anaconda3/envs/goes_env/lib/python3.6/site-packages/mpl_toolkits/basemap/__init__.py:4759: DeprecationWarning: The truth value of an empty array is ambiguous. Returning False, but in future this will result in an error. Use `array.size > 0` to check that an array is not empty.\n",
      "  if fix_wrap_around and itemindex:\n",
      "/home/jhemedinger/anaconda3/envs/goes_env/lib/python3.6/site-packages/pyart/graph/gridmapdisplay.py:72: DeprecationWarning: GridMapDisplay will be switching to Cartopy in the next Py-ART release 1.11.0. Basemap is still optional to use in GridMapDisplayBasemap but there will be no support if an error appears.\n",
      "  DeprecationWarning)\n",
      "/home/jhemedinger/anaconda3/envs/goes_env/lib/python3.6/site-packages/mpl_toolkits/basemap/__init__.py:4759: DeprecationWarning: The truth value of an empty array is ambiguous. Returning False, but in future this will result in an error. Use `array.size > 0` to check that an array is not empty.\n",
      "  if fix_wrap_around and itemindex:\n",
      "/home/jhemedinger/anaconda3/envs/goes_env/lib/python3.6/site-packages/pyart/graph/gridmapdisplay.py:72: DeprecationWarning: GridMapDisplay will be switching to Cartopy in the next Py-ART release 1.11.0. Basemap is still optional to use in GridMapDisplayBasemap but there will be no support if an error appears.\n",
      "  DeprecationWarning)\n",
      "/home/jhemedinger/anaconda3/envs/goes_env/lib/python3.6/site-packages/mpl_toolkits/basemap/__init__.py:4759: DeprecationWarning: The truth value of an empty array is ambiguous. Returning False, but in future this will result in an error. Use `array.size > 0` to check that an array is not empty.\n",
      "  if fix_wrap_around and itemindex:\n",
      "/home/jhemedinger/anaconda3/envs/goes_env/lib/python3.6/site-packages/pyart/graph/gridmapdisplay.py:72: DeprecationWarning: GridMapDisplay will be switching to Cartopy in the next Py-ART release 1.11.0. Basemap is still optional to use in GridMapDisplayBasemap but there will be no support if an error appears.\n",
      "  DeprecationWarning)\n",
      "/home/jhemedinger/anaconda3/envs/goes_env/lib/python3.6/site-packages/mpl_toolkits/basemap/__init__.py:4759: DeprecationWarning: The truth value of an empty array is ambiguous. Returning False, but in future this will result in an error. Use `array.size > 0` to check that an array is not empty.\n",
      "  if fix_wrap_around and itemindex:\n",
      "/home/jhemedinger/anaconda3/envs/goes_env/lib/python3.6/site-packages/pyart/graph/gridmapdisplay.py:72: DeprecationWarning: GridMapDisplay will be switching to Cartopy in the next Py-ART release 1.11.0. Basemap is still optional to use in GridMapDisplayBasemap but there will be no support if an error appears.\n",
      "  DeprecationWarning)\n",
      "/home/jhemedinger/anaconda3/envs/goes_env/lib/python3.6/site-packages/mpl_toolkits/basemap/__init__.py:4759: DeprecationWarning: The truth value of an empty array is ambiguous. Returning False, but in future this will result in an error. Use `array.size > 0` to check that an array is not empty.\n",
      "  if fix_wrap_around and itemindex:\n",
      "/home/jhemedinger/anaconda3/envs/goes_env/lib/python3.6/site-packages/pyart/graph/gridmapdisplay.py:72: DeprecationWarning: GridMapDisplay will be switching to Cartopy in the next Py-ART release 1.11.0. Basemap is still optional to use in GridMapDisplayBasemap but there will be no support if an error appears.\n",
      "  DeprecationWarning)\n"
     ]
    },
    {
     "name": "stderr",
     "output_type": "stream",
     "text": [
      "/home/jhemedinger/anaconda3/envs/goes_env/lib/python3.6/site-packages/mpl_toolkits/basemap/__init__.py:4759: DeprecationWarning: The truth value of an empty array is ambiguous. Returning False, but in future this will result in an error. Use `array.size > 0` to check that an array is not empty.\n",
      "  if fix_wrap_around and itemindex:\n",
      "/home/jhemedinger/anaconda3/envs/goes_env/lib/python3.6/site-packages/pyart/graph/gridmapdisplay.py:72: DeprecationWarning: GridMapDisplay will be switching to Cartopy in the next Py-ART release 1.11.0. Basemap is still optional to use in GridMapDisplayBasemap but there will be no support if an error appears.\n",
      "  DeprecationWarning)\n",
      "/home/jhemedinger/anaconda3/envs/goes_env/lib/python3.6/site-packages/mpl_toolkits/basemap/__init__.py:4759: DeprecationWarning: The truth value of an empty array is ambiguous. Returning False, but in future this will result in an error. Use `array.size > 0` to check that an array is not empty.\n",
      "  if fix_wrap_around and itemindex:\n",
      "/home/jhemedinger/anaconda3/envs/goes_env/lib/python3.6/site-packages/pyart/graph/gridmapdisplay.py:72: DeprecationWarning: GridMapDisplay will be switching to Cartopy in the next Py-ART release 1.11.0. Basemap is still optional to use in GridMapDisplayBasemap but there will be no support if an error appears.\n",
      "  DeprecationWarning)\n",
      "/home/jhemedinger/anaconda3/envs/goes_env/lib/python3.6/site-packages/mpl_toolkits/basemap/__init__.py:4759: DeprecationWarning: The truth value of an empty array is ambiguous. Returning False, but in future this will result in an error. Use `array.size > 0` to check that an array is not empty.\n",
      "  if fix_wrap_around and itemindex:\n",
      "/home/jhemedinger/anaconda3/envs/goes_env/lib/python3.6/site-packages/pyart/graph/gridmapdisplay.py:72: DeprecationWarning: GridMapDisplay will be switching to Cartopy in the next Py-ART release 1.11.0. Basemap is still optional to use in GridMapDisplayBasemap but there will be no support if an error appears.\n",
      "  DeprecationWarning)\n",
      "/home/jhemedinger/anaconda3/envs/goes_env/lib/python3.6/site-packages/mpl_toolkits/basemap/__init__.py:4759: DeprecationWarning: The truth value of an empty array is ambiguous. Returning False, but in future this will result in an error. Use `array.size > 0` to check that an array is not empty.\n",
      "  if fix_wrap_around and itemindex:\n",
      "/home/jhemedinger/anaconda3/envs/goes_env/lib/python3.6/site-packages/pyart/graph/gridmapdisplay.py:72: DeprecationWarning: GridMapDisplay will be switching to Cartopy in the next Py-ART release 1.11.0. Basemap is still optional to use in GridMapDisplayBasemap but there will be no support if an error appears.\n",
      "  DeprecationWarning)\n",
      "/home/jhemedinger/anaconda3/envs/goes_env/lib/python3.6/site-packages/mpl_toolkits/basemap/__init__.py:4759: DeprecationWarning: The truth value of an empty array is ambiguous. Returning False, but in future this will result in an error. Use `array.size > 0` to check that an array is not empty.\n",
      "  if fix_wrap_around and itemindex:\n",
      "/home/jhemedinger/anaconda3/envs/goes_env/lib/python3.6/site-packages/pyart/graph/gridmapdisplay.py:72: DeprecationWarning: GridMapDisplay will be switching to Cartopy in the next Py-ART release 1.11.0. Basemap is still optional to use in GridMapDisplayBasemap but there will be no support if an error appears.\n",
      "  DeprecationWarning)\n",
      "/home/jhemedinger/anaconda3/envs/goes_env/lib/python3.6/site-packages/mpl_toolkits/basemap/__init__.py:4759: DeprecationWarning: The truth value of an empty array is ambiguous. Returning False, but in future this will result in an error. Use `array.size > 0` to check that an array is not empty.\n",
      "  if fix_wrap_around and itemindex:\n",
      "/home/jhemedinger/anaconda3/envs/goes_env/lib/python3.6/site-packages/pyart/graph/gridmapdisplay.py:72: DeprecationWarning: GridMapDisplay will be switching to Cartopy in the next Py-ART release 1.11.0. Basemap is still optional to use in GridMapDisplayBasemap but there will be no support if an error appears.\n",
      "  DeprecationWarning)\n",
      "/home/jhemedinger/anaconda3/envs/goes_env/lib/python3.6/site-packages/mpl_toolkits/basemap/__init__.py:4759: DeprecationWarning: The truth value of an empty array is ambiguous. Returning False, but in future this will result in an error. Use `array.size > 0` to check that an array is not empty.\n",
      "  if fix_wrap_around and itemindex:\n",
      "/home/jhemedinger/anaconda3/envs/goes_env/lib/python3.6/site-packages/pyart/graph/gridmapdisplay.py:72: DeprecationWarning: GridMapDisplay will be switching to Cartopy in the next Py-ART release 1.11.0. Basemap is still optional to use in GridMapDisplayBasemap but there will be no support if an error appears.\n",
      "  DeprecationWarning)\n",
      "/home/jhemedinger/anaconda3/envs/goes_env/lib/python3.6/site-packages/mpl_toolkits/basemap/__init__.py:4759: DeprecationWarning: The truth value of an empty array is ambiguous. Returning False, but in future this will result in an error. Use `array.size > 0` to check that an array is not empty.\n",
      "  if fix_wrap_around and itemindex:\n",
      "/home/jhemedinger/anaconda3/envs/goes_env/lib/python3.6/site-packages/pyart/graph/gridmapdisplay.py:72: DeprecationWarning: GridMapDisplay will be switching to Cartopy in the next Py-ART release 1.11.0. Basemap is still optional to use in GridMapDisplayBasemap but there will be no support if an error appears.\n",
      "  DeprecationWarning)\n",
      "/home/jhemedinger/anaconda3/envs/goes_env/lib/python3.6/site-packages/mpl_toolkits/basemap/__init__.py:4759: DeprecationWarning: The truth value of an empty array is ambiguous. Returning False, but in future this will result in an error. Use `array.size > 0` to check that an array is not empty.\n",
      "  if fix_wrap_around and itemindex:\n",
      "/home/jhemedinger/anaconda3/envs/goes_env/lib/python3.6/site-packages/pyart/graph/gridmapdisplay.py:72: DeprecationWarning: GridMapDisplay will be switching to Cartopy in the next Py-ART release 1.11.0. Basemap is still optional to use in GridMapDisplayBasemap but there will be no support if an error appears.\n",
      "  DeprecationWarning)\n",
      "/home/jhemedinger/anaconda3/envs/goes_env/lib/python3.6/site-packages/mpl_toolkits/basemap/__init__.py:4759: DeprecationWarning: The truth value of an empty array is ambiguous. Returning False, but in future this will result in an error. Use `array.size > 0` to check that an array is not empty.\n",
      "  if fix_wrap_around and itemindex:\n",
      "/home/jhemedinger/anaconda3/envs/goes_env/lib/python3.6/site-packages/pyart/graph/gridmapdisplay.py:72: DeprecationWarning: GridMapDisplay will be switching to Cartopy in the next Py-ART release 1.11.0. Basemap is still optional to use in GridMapDisplayBasemap but there will be no support if an error appears.\n",
      "  DeprecationWarning)\n",
      "/home/jhemedinger/anaconda3/envs/goes_env/lib/python3.6/site-packages/mpl_toolkits/basemap/__init__.py:4759: DeprecationWarning: The truth value of an empty array is ambiguous. Returning False, but in future this will result in an error. Use `array.size > 0` to check that an array is not empty.\n",
      "  if fix_wrap_around and itemindex:\n",
      "/home/jhemedinger/anaconda3/envs/goes_env/lib/python3.6/site-packages/pyart/graph/gridmapdisplay.py:72: DeprecationWarning: GridMapDisplay will be switching to Cartopy in the next Py-ART release 1.11.0. Basemap is still optional to use in GridMapDisplayBasemap but there will be no support if an error appears.\n",
      "  DeprecationWarning)\n",
      "/home/jhemedinger/anaconda3/envs/goes_env/lib/python3.6/site-packages/mpl_toolkits/basemap/__init__.py:4759: DeprecationWarning: The truth value of an empty array is ambiguous. Returning False, but in future this will result in an error. Use `array.size > 0` to check that an array is not empty.\n",
      "  if fix_wrap_around and itemindex:\n",
      "/home/jhemedinger/anaconda3/envs/goes_env/lib/python3.6/site-packages/pyart/graph/gridmapdisplay.py:72: DeprecationWarning: GridMapDisplay will be switching to Cartopy in the next Py-ART release 1.11.0. Basemap is still optional to use in GridMapDisplayBasemap but there will be no support if an error appears.\n",
      "  DeprecationWarning)\n",
      "/home/jhemedinger/anaconda3/envs/goes_env/lib/python3.6/site-packages/mpl_toolkits/basemap/__init__.py:4759: DeprecationWarning: The truth value of an empty array is ambiguous. Returning False, but in future this will result in an error. Use `array.size > 0` to check that an array is not empty.\n",
      "  if fix_wrap_around and itemindex:\n"
     ]
    },
    {
     "name": "stderr",
     "output_type": "stream",
     "text": [
      "/home/jhemedinger/anaconda3/envs/goes_env/lib/python3.6/site-packages/pyart/graph/gridmapdisplay.py:72: DeprecationWarning: GridMapDisplay will be switching to Cartopy in the next Py-ART release 1.11.0. Basemap is still optional to use in GridMapDisplayBasemap but there will be no support if an error appears.\n",
      "  DeprecationWarning)\n",
      "/home/jhemedinger/anaconda3/envs/goes_env/lib/python3.6/site-packages/mpl_toolkits/basemap/__init__.py:4759: DeprecationWarning: The truth value of an empty array is ambiguous. Returning False, but in future this will result in an error. Use `array.size > 0` to check that an array is not empty.\n",
      "  if fix_wrap_around and itemindex:\n",
      "/home/jhemedinger/anaconda3/envs/goes_env/lib/python3.6/site-packages/pyart/graph/gridmapdisplay.py:72: DeprecationWarning: GridMapDisplay will be switching to Cartopy in the next Py-ART release 1.11.0. Basemap is still optional to use in GridMapDisplayBasemap but there will be no support if an error appears.\n",
      "  DeprecationWarning)\n",
      "/home/jhemedinger/anaconda3/envs/goes_env/lib/python3.6/site-packages/mpl_toolkits/basemap/__init__.py:4759: DeprecationWarning: The truth value of an empty array is ambiguous. Returning False, but in future this will result in an error. Use `array.size > 0` to check that an array is not empty.\n",
      "  if fix_wrap_around and itemindex:\n",
      "/home/jhemedinger/anaconda3/envs/goes_env/lib/python3.6/site-packages/pyart/graph/gridmapdisplay.py:72: DeprecationWarning: GridMapDisplay will be switching to Cartopy in the next Py-ART release 1.11.0. Basemap is still optional to use in GridMapDisplayBasemap but there will be no support if an error appears.\n",
      "  DeprecationWarning)\n",
      "/home/jhemedinger/anaconda3/envs/goes_env/lib/python3.6/site-packages/mpl_toolkits/basemap/__init__.py:4759: DeprecationWarning: The truth value of an empty array is ambiguous. Returning False, but in future this will result in an error. Use `array.size > 0` to check that an array is not empty.\n",
      "  if fix_wrap_around and itemindex:\n",
      "/home/jhemedinger/anaconda3/envs/goes_env/lib/python3.6/site-packages/pyart/graph/gridmapdisplay.py:72: DeprecationWarning: GridMapDisplay will be switching to Cartopy in the next Py-ART release 1.11.0. Basemap is still optional to use in GridMapDisplayBasemap but there will be no support if an error appears.\n",
      "  DeprecationWarning)\n",
      "/home/jhemedinger/anaconda3/envs/goes_env/lib/python3.6/site-packages/mpl_toolkits/basemap/__init__.py:4759: DeprecationWarning: The truth value of an empty array is ambiguous. Returning False, but in future this will result in an error. Use `array.size > 0` to check that an array is not empty.\n",
      "  if fix_wrap_around and itemindex:\n",
      "/home/jhemedinger/anaconda3/envs/goes_env/lib/python3.6/site-packages/pyart/graph/gridmapdisplay.py:72: DeprecationWarning: GridMapDisplay will be switching to Cartopy in the next Py-ART release 1.11.0. Basemap is still optional to use in GridMapDisplayBasemap but there will be no support if an error appears.\n",
      "  DeprecationWarning)\n",
      "/home/jhemedinger/anaconda3/envs/goes_env/lib/python3.6/site-packages/mpl_toolkits/basemap/__init__.py:4759: DeprecationWarning: The truth value of an empty array is ambiguous. Returning False, but in future this will result in an error. Use `array.size > 0` to check that an array is not empty.\n",
      "  if fix_wrap_around and itemindex:\n",
      "/home/jhemedinger/anaconda3/envs/goes_env/lib/python3.6/site-packages/pyart/graph/gridmapdisplay.py:72: DeprecationWarning: GridMapDisplay will be switching to Cartopy in the next Py-ART release 1.11.0. Basemap is still optional to use in GridMapDisplayBasemap but there will be no support if an error appears.\n",
      "  DeprecationWarning)\n",
      "/home/jhemedinger/anaconda3/envs/goes_env/lib/python3.6/site-packages/mpl_toolkits/basemap/__init__.py:4759: DeprecationWarning: The truth value of an empty array is ambiguous. Returning False, but in future this will result in an error. Use `array.size > 0` to check that an array is not empty.\n",
      "  if fix_wrap_around and itemindex:\n",
      "/home/jhemedinger/anaconda3/envs/goes_env/lib/python3.6/site-packages/pyart/graph/gridmapdisplay.py:72: DeprecationWarning: GridMapDisplay will be switching to Cartopy in the next Py-ART release 1.11.0. Basemap is still optional to use in GridMapDisplayBasemap but there will be no support if an error appears.\n",
      "  DeprecationWarning)\n",
      "/home/jhemedinger/anaconda3/envs/goes_env/lib/python3.6/site-packages/mpl_toolkits/basemap/__init__.py:4759: DeprecationWarning: The truth value of an empty array is ambiguous. Returning False, but in future this will result in an error. Use `array.size > 0` to check that an array is not empty.\n",
      "  if fix_wrap_around and itemindex:\n",
      "/home/jhemedinger/anaconda3/envs/goes_env/lib/python3.6/site-packages/pyart/graph/gridmapdisplay.py:72: DeprecationWarning: GridMapDisplay will be switching to Cartopy in the next Py-ART release 1.11.0. Basemap is still optional to use in GridMapDisplayBasemap but there will be no support if an error appears.\n",
      "  DeprecationWarning)\n",
      "/home/jhemedinger/anaconda3/envs/goes_env/lib/python3.6/site-packages/mpl_toolkits/basemap/__init__.py:4759: DeprecationWarning: The truth value of an empty array is ambiguous. Returning False, but in future this will result in an error. Use `array.size > 0` to check that an array is not empty.\n",
      "  if fix_wrap_around and itemindex:\n",
      "/home/jhemedinger/anaconda3/envs/goes_env/lib/python3.6/site-packages/pyart/graph/gridmapdisplay.py:72: DeprecationWarning: GridMapDisplay will be switching to Cartopy in the next Py-ART release 1.11.0. Basemap is still optional to use in GridMapDisplayBasemap but there will be no support if an error appears.\n",
      "  DeprecationWarning)\n",
      "/home/jhemedinger/anaconda3/envs/goes_env/lib/python3.6/site-packages/mpl_toolkits/basemap/__init__.py:4759: DeprecationWarning: The truth value of an empty array is ambiguous. Returning False, but in future this will result in an error. Use `array.size > 0` to check that an array is not empty.\n",
      "  if fix_wrap_around and itemindex:\n",
      "/home/jhemedinger/anaconda3/envs/goes_env/lib/python3.6/site-packages/pyart/graph/gridmapdisplay.py:72: DeprecationWarning: GridMapDisplay will be switching to Cartopy in the next Py-ART release 1.11.0. Basemap is still optional to use in GridMapDisplayBasemap but there will be no support if an error appears.\n",
      "  DeprecationWarning)\n",
      "/home/jhemedinger/anaconda3/envs/goes_env/lib/python3.6/site-packages/mpl_toolkits/basemap/__init__.py:4759: DeprecationWarning: The truth value of an empty array is ambiguous. Returning False, but in future this will result in an error. Use `array.size > 0` to check that an array is not empty.\n",
      "  if fix_wrap_around and itemindex:\n",
      "/home/jhemedinger/anaconda3/envs/goes_env/lib/python3.6/site-packages/pyart/graph/gridmapdisplay.py:72: DeprecationWarning: GridMapDisplay will be switching to Cartopy in the next Py-ART release 1.11.0. Basemap is still optional to use in GridMapDisplayBasemap but there will be no support if an error appears.\n",
      "  DeprecationWarning)\n",
      "/home/jhemedinger/anaconda3/envs/goes_env/lib/python3.6/site-packages/mpl_toolkits/basemap/__init__.py:4759: DeprecationWarning: The truth value of an empty array is ambiguous. Returning False, but in future this will result in an error. Use `array.size > 0` to check that an array is not empty.\n",
      "  if fix_wrap_around and itemindex:\n",
      "/home/jhemedinger/anaconda3/envs/goes_env/lib/python3.6/site-packages/pyart/graph/gridmapdisplay.py:72: DeprecationWarning: GridMapDisplay will be switching to Cartopy in the next Py-ART release 1.11.0. Basemap is still optional to use in GridMapDisplayBasemap but there will be no support if an error appears.\n",
      "  DeprecationWarning)\n",
      "/home/jhemedinger/anaconda3/envs/goes_env/lib/python3.6/site-packages/mpl_toolkits/basemap/__init__.py:4759: DeprecationWarning: The truth value of an empty array is ambiguous. Returning False, but in future this will result in an error. Use `array.size > 0` to check that an array is not empty.\n",
      "  if fix_wrap_around and itemindex:\n",
      "/home/jhemedinger/anaconda3/envs/goes_env/lib/python3.6/site-packages/pyart/graph/gridmapdisplay.py:72: DeprecationWarning: GridMapDisplay will be switching to Cartopy in the next Py-ART release 1.11.0. Basemap is still optional to use in GridMapDisplayBasemap but there will be no support if an error appears.\n",
      "  DeprecationWarning)\n"
     ]
    },
    {
     "name": "stderr",
     "output_type": "stream",
     "text": [
      "/home/jhemedinger/anaconda3/envs/goes_env/lib/python3.6/site-packages/mpl_toolkits/basemap/__init__.py:4759: DeprecationWarning: The truth value of an empty array is ambiguous. Returning False, but in future this will result in an error. Use `array.size > 0` to check that an array is not empty.\n",
      "  if fix_wrap_around and itemindex:\n",
      "/home/jhemedinger/anaconda3/envs/goes_env/lib/python3.6/site-packages/pyart/graph/gridmapdisplay.py:72: DeprecationWarning: GridMapDisplay will be switching to Cartopy in the next Py-ART release 1.11.0. Basemap is still optional to use in GridMapDisplayBasemap but there will be no support if an error appears.\n",
      "  DeprecationWarning)\n",
      "/home/jhemedinger/anaconda3/envs/goes_env/lib/python3.6/site-packages/mpl_toolkits/basemap/__init__.py:4759: DeprecationWarning: The truth value of an empty array is ambiguous. Returning False, but in future this will result in an error. Use `array.size > 0` to check that an array is not empty.\n",
      "  if fix_wrap_around and itemindex:\n",
      "/home/jhemedinger/anaconda3/envs/goes_env/lib/python3.6/site-packages/pyart/graph/gridmapdisplay.py:72: DeprecationWarning: GridMapDisplay will be switching to Cartopy in the next Py-ART release 1.11.0. Basemap is still optional to use in GridMapDisplayBasemap but there will be no support if an error appears.\n",
      "  DeprecationWarning)\n",
      "/home/jhemedinger/anaconda3/envs/goes_env/lib/python3.6/site-packages/mpl_toolkits/basemap/__init__.py:4759: DeprecationWarning: The truth value of an empty array is ambiguous. Returning False, but in future this will result in an error. Use `array.size > 0` to check that an array is not empty.\n",
      "  if fix_wrap_around and itemindex:\n",
      "/home/jhemedinger/anaconda3/envs/goes_env/lib/python3.6/site-packages/pyart/graph/gridmapdisplay.py:72: DeprecationWarning: GridMapDisplay will be switching to Cartopy in the next Py-ART release 1.11.0. Basemap is still optional to use in GridMapDisplayBasemap but there will be no support if an error appears.\n",
      "  DeprecationWarning)\n",
      "/home/jhemedinger/anaconda3/envs/goes_env/lib/python3.6/site-packages/mpl_toolkits/basemap/__init__.py:4759: DeprecationWarning: The truth value of an empty array is ambiguous. Returning False, but in future this will result in an error. Use `array.size > 0` to check that an array is not empty.\n",
      "  if fix_wrap_around and itemindex:\n",
      "/home/jhemedinger/anaconda3/envs/goes_env/lib/python3.6/site-packages/pyart/graph/gridmapdisplay.py:72: DeprecationWarning: GridMapDisplay will be switching to Cartopy in the next Py-ART release 1.11.0. Basemap is still optional to use in GridMapDisplayBasemap but there will be no support if an error appears.\n",
      "  DeprecationWarning)\n",
      "/home/jhemedinger/anaconda3/envs/goes_env/lib/python3.6/site-packages/mpl_toolkits/basemap/__init__.py:4759: DeprecationWarning: The truth value of an empty array is ambiguous. Returning False, but in future this will result in an error. Use `array.size > 0` to check that an array is not empty.\n",
      "  if fix_wrap_around and itemindex:\n",
      "/home/jhemedinger/anaconda3/envs/goes_env/lib/python3.6/site-packages/pyart/graph/gridmapdisplay.py:72: DeprecationWarning: GridMapDisplay will be switching to Cartopy in the next Py-ART release 1.11.0. Basemap is still optional to use in GridMapDisplayBasemap but there will be no support if an error appears.\n",
      "  DeprecationWarning)\n",
      "/home/jhemedinger/anaconda3/envs/goes_env/lib/python3.6/site-packages/mpl_toolkits/basemap/__init__.py:4759: DeprecationWarning: The truth value of an empty array is ambiguous. Returning False, but in future this will result in an error. Use `array.size > 0` to check that an array is not empty.\n",
      "  if fix_wrap_around and itemindex:\n",
      "/home/jhemedinger/anaconda3/envs/goes_env/lib/python3.6/site-packages/pyart/graph/gridmapdisplay.py:72: DeprecationWarning: GridMapDisplay will be switching to Cartopy in the next Py-ART release 1.11.0. Basemap is still optional to use in GridMapDisplayBasemap but there will be no support if an error appears.\n",
      "  DeprecationWarning)\n",
      "/home/jhemedinger/anaconda3/envs/goes_env/lib/python3.6/site-packages/mpl_toolkits/basemap/__init__.py:4759: DeprecationWarning: The truth value of an empty array is ambiguous. Returning False, but in future this will result in an error. Use `array.size > 0` to check that an array is not empty.\n",
      "  if fix_wrap_around and itemindex:\n",
      "/home/jhemedinger/anaconda3/envs/goes_env/lib/python3.6/site-packages/pyart/graph/gridmapdisplay.py:72: DeprecationWarning: GridMapDisplay will be switching to Cartopy in the next Py-ART release 1.11.0. Basemap is still optional to use in GridMapDisplayBasemap but there will be no support if an error appears.\n",
      "  DeprecationWarning)\n",
      "/home/jhemedinger/anaconda3/envs/goes_env/lib/python3.6/site-packages/mpl_toolkits/basemap/__init__.py:4759: DeprecationWarning: The truth value of an empty array is ambiguous. Returning False, but in future this will result in an error. Use `array.size > 0` to check that an array is not empty.\n",
      "  if fix_wrap_around and itemindex:\n",
      "/home/jhemedinger/anaconda3/envs/goes_env/lib/python3.6/site-packages/pyart/graph/gridmapdisplay.py:72: DeprecationWarning: GridMapDisplay will be switching to Cartopy in the next Py-ART release 1.11.0. Basemap is still optional to use in GridMapDisplayBasemap but there will be no support if an error appears.\n",
      "  DeprecationWarning)\n",
      "/home/jhemedinger/anaconda3/envs/goes_env/lib/python3.6/site-packages/mpl_toolkits/basemap/__init__.py:4759: DeprecationWarning: The truth value of an empty array is ambiguous. Returning False, but in future this will result in an error. Use `array.size > 0` to check that an array is not empty.\n",
      "  if fix_wrap_around and itemindex:\n",
      "/home/jhemedinger/anaconda3/envs/goes_env/lib/python3.6/site-packages/pyart/graph/gridmapdisplay.py:72: DeprecationWarning: GridMapDisplay will be switching to Cartopy in the next Py-ART release 1.11.0. Basemap is still optional to use in GridMapDisplayBasemap but there will be no support if an error appears.\n",
      "  DeprecationWarning)\n",
      "/home/jhemedinger/anaconda3/envs/goes_env/lib/python3.6/site-packages/mpl_toolkits/basemap/__init__.py:4759: DeprecationWarning: The truth value of an empty array is ambiguous. Returning False, but in future this will result in an error. Use `array.size > 0` to check that an array is not empty.\n",
      "  if fix_wrap_around and itemindex:\n",
      "/home/jhemedinger/anaconda3/envs/goes_env/lib/python3.6/site-packages/pyart/graph/gridmapdisplay.py:72: DeprecationWarning: GridMapDisplay will be switching to Cartopy in the next Py-ART release 1.11.0. Basemap is still optional to use in GridMapDisplayBasemap but there will be no support if an error appears.\n",
      "  DeprecationWarning)\n",
      "/home/jhemedinger/anaconda3/envs/goes_env/lib/python3.6/site-packages/mpl_toolkits/basemap/__init__.py:4759: DeprecationWarning: The truth value of an empty array is ambiguous. Returning False, but in future this will result in an error. Use `array.size > 0` to check that an array is not empty.\n",
      "  if fix_wrap_around and itemindex:\n",
      "/home/jhemedinger/anaconda3/envs/goes_env/lib/python3.6/site-packages/pyart/graph/gridmapdisplay.py:72: DeprecationWarning: GridMapDisplay will be switching to Cartopy in the next Py-ART release 1.11.0. Basemap is still optional to use in GridMapDisplayBasemap but there will be no support if an error appears.\n",
      "  DeprecationWarning)\n",
      "/home/jhemedinger/anaconda3/envs/goes_env/lib/python3.6/site-packages/mpl_toolkits/basemap/__init__.py:4759: DeprecationWarning: The truth value of an empty array is ambiguous. Returning False, but in future this will result in an error. Use `array.size > 0` to check that an array is not empty.\n",
      "  if fix_wrap_around and itemindex:\n",
      "/home/jhemedinger/anaconda3/envs/goes_env/lib/python3.6/site-packages/pyart/graph/gridmapdisplay.py:72: DeprecationWarning: GridMapDisplay will be switching to Cartopy in the next Py-ART release 1.11.0. Basemap is still optional to use in GridMapDisplayBasemap but there will be no support if an error appears.\n",
      "  DeprecationWarning)\n",
      "/home/jhemedinger/anaconda3/envs/goes_env/lib/python3.6/site-packages/mpl_toolkits/basemap/__init__.py:4759: DeprecationWarning: The truth value of an empty array is ambiguous. Returning False, but in future this will result in an error. Use `array.size > 0` to check that an array is not empty.\n",
      "  if fix_wrap_around and itemindex:\n"
     ]
    },
    {
     "name": "stderr",
     "output_type": "stream",
     "text": [
      "/home/jhemedinger/anaconda3/envs/goes_env/lib/python3.6/site-packages/pyart/graph/gridmapdisplay.py:72: DeprecationWarning: GridMapDisplay will be switching to Cartopy in the next Py-ART release 1.11.0. Basemap is still optional to use in GridMapDisplayBasemap but there will be no support if an error appears.\n",
      "  DeprecationWarning)\n",
      "/home/jhemedinger/anaconda3/envs/goes_env/lib/python3.6/site-packages/mpl_toolkits/basemap/__init__.py:4759: DeprecationWarning: The truth value of an empty array is ambiguous. Returning False, but in future this will result in an error. Use `array.size > 0` to check that an array is not empty.\n",
      "  if fix_wrap_around and itemindex:\n",
      "/home/jhemedinger/anaconda3/envs/goes_env/lib/python3.6/site-packages/pyart/graph/gridmapdisplay.py:72: DeprecationWarning: GridMapDisplay will be switching to Cartopy in the next Py-ART release 1.11.0. Basemap is still optional to use in GridMapDisplayBasemap but there will be no support if an error appears.\n",
      "  DeprecationWarning)\n",
      "/home/jhemedinger/anaconda3/envs/goes_env/lib/python3.6/site-packages/mpl_toolkits/basemap/__init__.py:4759: DeprecationWarning: The truth value of an empty array is ambiguous. Returning False, but in future this will result in an error. Use `array.size > 0` to check that an array is not empty.\n",
      "  if fix_wrap_around and itemindex:\n",
      "/home/jhemedinger/anaconda3/envs/goes_env/lib/python3.6/site-packages/pyart/graph/gridmapdisplay.py:72: DeprecationWarning: GridMapDisplay will be switching to Cartopy in the next Py-ART release 1.11.0. Basemap is still optional to use in GridMapDisplayBasemap but there will be no support if an error appears.\n",
      "  DeprecationWarning)\n",
      "/home/jhemedinger/anaconda3/envs/goes_env/lib/python3.6/site-packages/mpl_toolkits/basemap/__init__.py:4759: DeprecationWarning: The truth value of an empty array is ambiguous. Returning False, but in future this will result in an error. Use `array.size > 0` to check that an array is not empty.\n",
      "  if fix_wrap_around and itemindex:\n",
      "/home/jhemedinger/anaconda3/envs/goes_env/lib/python3.6/site-packages/pyart/graph/gridmapdisplay.py:72: DeprecationWarning: GridMapDisplay will be switching to Cartopy in the next Py-ART release 1.11.0. Basemap is still optional to use in GridMapDisplayBasemap but there will be no support if an error appears.\n",
      "  DeprecationWarning)\n",
      "/home/jhemedinger/anaconda3/envs/goes_env/lib/python3.6/site-packages/mpl_toolkits/basemap/__init__.py:4759: DeprecationWarning: The truth value of an empty array is ambiguous. Returning False, but in future this will result in an error. Use `array.size > 0` to check that an array is not empty.\n",
      "  if fix_wrap_around and itemindex:\n",
      "/home/jhemedinger/anaconda3/envs/goes_env/lib/python3.6/site-packages/pyart/graph/gridmapdisplay.py:72: DeprecationWarning: GridMapDisplay will be switching to Cartopy in the next Py-ART release 1.11.0. Basemap is still optional to use in GridMapDisplayBasemap but there will be no support if an error appears.\n",
      "  DeprecationWarning)\n",
      "/home/jhemedinger/anaconda3/envs/goes_env/lib/python3.6/site-packages/mpl_toolkits/basemap/__init__.py:4759: DeprecationWarning: The truth value of an empty array is ambiguous. Returning False, but in future this will result in an error. Use `array.size > 0` to check that an array is not empty.\n",
      "  if fix_wrap_around and itemindex:\n",
      "/home/jhemedinger/anaconda3/envs/goes_env/lib/python3.6/site-packages/pyart/graph/gridmapdisplay.py:72: DeprecationWarning: GridMapDisplay will be switching to Cartopy in the next Py-ART release 1.11.0. Basemap is still optional to use in GridMapDisplayBasemap but there will be no support if an error appears.\n",
      "  DeprecationWarning)\n",
      "/home/jhemedinger/anaconda3/envs/goes_env/lib/python3.6/site-packages/mpl_toolkits/basemap/__init__.py:4759: DeprecationWarning: The truth value of an empty array is ambiguous. Returning False, but in future this will result in an error. Use `array.size > 0` to check that an array is not empty.\n",
      "  if fix_wrap_around and itemindex:\n",
      "/home/jhemedinger/anaconda3/envs/goes_env/lib/python3.6/site-packages/pyart/graph/gridmapdisplay.py:72: DeprecationWarning: GridMapDisplay will be switching to Cartopy in the next Py-ART release 1.11.0. Basemap is still optional to use in GridMapDisplayBasemap but there will be no support if an error appears.\n",
      "  DeprecationWarning)\n",
      "/home/jhemedinger/anaconda3/envs/goes_env/lib/python3.6/site-packages/mpl_toolkits/basemap/__init__.py:4759: DeprecationWarning: The truth value of an empty array is ambiguous. Returning False, but in future this will result in an error. Use `array.size > 0` to check that an array is not empty.\n",
      "  if fix_wrap_around and itemindex:\n",
      "/home/jhemedinger/anaconda3/envs/goes_env/lib/python3.6/site-packages/pyart/graph/gridmapdisplay.py:72: DeprecationWarning: GridMapDisplay will be switching to Cartopy in the next Py-ART release 1.11.0. Basemap is still optional to use in GridMapDisplayBasemap but there will be no support if an error appears.\n",
      "  DeprecationWarning)\n",
      "/home/jhemedinger/anaconda3/envs/goes_env/lib/python3.6/site-packages/mpl_toolkits/basemap/__init__.py:4759: DeprecationWarning: The truth value of an empty array is ambiguous. Returning False, but in future this will result in an error. Use `array.size > 0` to check that an array is not empty.\n",
      "  if fix_wrap_around and itemindex:\n",
      "/home/jhemedinger/anaconda3/envs/goes_env/lib/python3.6/site-packages/pyart/graph/gridmapdisplay.py:72: DeprecationWarning: GridMapDisplay will be switching to Cartopy in the next Py-ART release 1.11.0. Basemap is still optional to use in GridMapDisplayBasemap but there will be no support if an error appears.\n",
      "  DeprecationWarning)\n",
      "/home/jhemedinger/anaconda3/envs/goes_env/lib/python3.6/site-packages/mpl_toolkits/basemap/__init__.py:4759: DeprecationWarning: The truth value of an empty array is ambiguous. Returning False, but in future this will result in an error. Use `array.size > 0` to check that an array is not empty.\n",
      "  if fix_wrap_around and itemindex:\n",
      "/home/jhemedinger/anaconda3/envs/goes_env/lib/python3.6/site-packages/pyart/graph/gridmapdisplay.py:72: DeprecationWarning: GridMapDisplay will be switching to Cartopy in the next Py-ART release 1.11.0. Basemap is still optional to use in GridMapDisplayBasemap but there will be no support if an error appears.\n",
      "  DeprecationWarning)\n",
      "/home/jhemedinger/anaconda3/envs/goes_env/lib/python3.6/site-packages/mpl_toolkits/basemap/__init__.py:4759: DeprecationWarning: The truth value of an empty array is ambiguous. Returning False, but in future this will result in an error. Use `array.size > 0` to check that an array is not empty.\n",
      "  if fix_wrap_around and itemindex:\n",
      "/home/jhemedinger/anaconda3/envs/goes_env/lib/python3.6/site-packages/pyart/graph/gridmapdisplay.py:72: DeprecationWarning: GridMapDisplay will be switching to Cartopy in the next Py-ART release 1.11.0. Basemap is still optional to use in GridMapDisplayBasemap but there will be no support if an error appears.\n",
      "  DeprecationWarning)\n",
      "/home/jhemedinger/anaconda3/envs/goes_env/lib/python3.6/site-packages/mpl_toolkits/basemap/__init__.py:4759: DeprecationWarning: The truth value of an empty array is ambiguous. Returning False, but in future this will result in an error. Use `array.size > 0` to check that an array is not empty.\n",
      "  if fix_wrap_around and itemindex:\n",
      "/home/jhemedinger/anaconda3/envs/goes_env/lib/python3.6/site-packages/pyart/graph/gridmapdisplay.py:72: DeprecationWarning: GridMapDisplay will be switching to Cartopy in the next Py-ART release 1.11.0. Basemap is still optional to use in GridMapDisplayBasemap but there will be no support if an error appears.\n",
      "  DeprecationWarning)\n",
      "/home/jhemedinger/anaconda3/envs/goes_env/lib/python3.6/site-packages/mpl_toolkits/basemap/__init__.py:4759: DeprecationWarning: The truth value of an empty array is ambiguous. Returning False, but in future this will result in an error. Use `array.size > 0` to check that an array is not empty.\n",
      "  if fix_wrap_around and itemindex:\n"
     ]
    },
    {
     "data": {
      "image/png": "[encoded data removed]",
      "text/plain": [
       "<Figure size 864x576 with 2 Axes>"
      ]
     },
     "metadata": {
      "needs_background": "light"
     },
     "output_type": "display_data"
    },
    {
     "data": {
      "text/plain": [
       "<function matplotlib.pyplot.close(fig=None)>"
      ]
     },
     "execution_count": 3,
     "metadata": {},
     "output_type": "execute_result"
    }
   ],
   "source": [
    "# Creating an animation of the GOES grids using PyART\n",
    "def sat_animation(nframe, cmap=mymap):\n",
    "    files = glob.glob('/home/jhemedinger/suli_projects/precipitation-onset/'\n",
    "                      + 'grids/sat_grids/*')\n",
    "    files.sort()\n",
    "    \n",
    "    plt.clf()\n",
    "    nfile = files[nframe]\n",
    "    \n",
    "    radar = pyart.io.read_grid(nfile)\n",
    "    \n",
    "    display = pyart.graph.GridMapDisplay(radar)\n",
    "    display.plot_grid('c13', cmap=cmap, vmin=-320, vmax=-200)\n",
    "    display.plot_basemap()\n",
    "    del radar, display\n",
    "\n",
    "fig = plt.figure(figsize=[12,8])\n",
    "sat_anim = FuncAnimation(fig, sat_animation, frames=60)\n",
    "sat_anim.save('/home/jhemedinger/suli_projects/precipitation-onset/plots/sat_animation.gif',\n",
    "              writer='imagemagick', fps=3)\n",
    "plt.show()\n",
    "plt.close"
   ]
  },
  {
   "cell_type": "code",
   "execution_count": 4,
   "metadata": {},
   "outputs": [
    {
     "data": {
      "text/plain": [
       "60"
      ]
     },
     "execution_count": 4,
     "metadata": {},
     "output_type": "execute_result"
    }
   ],
   "source": [
    "# Obtain sorted list of GOES grid files\n",
    "data_dir = '/home/jhemedinger/suli_projects/precipitation-onset/grids/sat_grids/OR_*'\n",
    "grid_files = glob.glob(data_dir, recursive=True)\n",
    "grid_files.sort()\n",
    "len(grid_files)"
   ]
  },
  {
   "cell_type": "code",
   "execution_count": 5,
   "metadata": {},
   "outputs": [
    {
     "name": "stdout",
     "output_type": "stream",
     "text": [
      "Writing tracks for scan 0\n",
      "Writing tracks for scan 1\n",
      "Writing tracks for scan 2\n",
      "Writing tracks for scan 3\n",
      "Writing tracks for scan 4\n",
      "Writing tracks for scan 5\n",
      "Writing tracks for scan 6\n",
      "Writing tracks for scan 7\n",
      "Writing tracks for scan 8\n",
      "Writing tracks for scan 9\n",
      "Writing tracks for scan 10\n",
      "Writing tracks for scan 11\n",
      "Writing tracks for scan 12\n",
      "Writing tracks for scan 13\n",
      "Writing tracks for scan 14\n",
      "Writing tracks for scan 15\n",
      "Writing tracks for scan 16\n",
      "Writing tracks for scan 17\n",
      "Writing tracks for scan 18\n",
      "Writing tracks for scan 19\n",
      "Writing tracks for scan 20\n",
      "Writing tracks for scan 21\n",
      "Writing tracks for scan 22\n",
      "Writing tracks for scan 23\n",
      "Writing tracks for scan 24\n",
      "Writing tracks for scan 25\n",
      "Writing tracks for scan 26\n",
      "Writing tracks for scan 27\n",
      "Writing tracks for scan 28\n",
      "Writing tracks for scan 29\n",
      "Writing tracks for scan 30\n",
      "Writing tracks for scan 31\n",
      "Writing tracks for scan 32\n",
      "Writing tracks for scan 33\n",
      "Writing tracks for scan 34\n",
      "Writing tracks for scan 35\n",
      "Writing tracks for scan 36\n",
      "Writing tracks for scan 37\n",
      "Writing tracks for scan 38\n",
      "Writing tracks for scan 39\n",
      "Writing tracks for scan 40\n",
      "Writing tracks for scan 41\n",
      "Writing tracks for scan 42\n",
      "Writing tracks for scan 43\n",
      "Writing tracks for scan 44\n",
      "Writing tracks for scan 45\n",
      "Writing tracks for scan 46\n",
      "Writing tracks for scan 47\n",
      "Writing tracks for scan 48\n",
      "Writing tracks for scan 49\n",
      "Writing tracks for scan 50\n",
      "Writing tracks for scan 51\n",
      "Writing tracks for scan 52\n",
      "Writing tracks for scan 53\n",
      "Writing tracks for scan 54\n",
      "Writing tracks for scan 55\n",
      "Writing tracks for scan 56\n",
      "Writing tracks for scan 57\n",
      "Writing tracks for scan 58\n",
      "Writing tracks for scan 59\n",
      "\n",
      "\n",
      "time elapsed 0.3 minutes\n"
     ]
    }
   ],
   "source": [
    "# Creating a grid generator to be able to read the goes grids into TINT\n",
    "grid_gen = (pyart.io.read_grid(grid_name) for grid_name in grid_files)\n",
    "\n",
    "# Instantiate tracks object and view parameter defaults\n",
    "tracks_obj = Cell_tracks(field='c13')\n",
    "\n",
    "# Adjusting size parameter\n",
    "# Default parameter values and documentation can be found in TINT\n",
    "# https://github.com/openradar/TINT/blob/master/tint/tracks.py\n",
    "tracks_obj.params['FIELD_THRESH'] = -250 \n",
    "tracks_obj.params['FLOW_MARGIN'] = 10000\n",
    "tracks_obj.params['GS_ALT'] = 0\n",
    "tracks_obj.params['ISO_SMOOTH'] = 3\n",
    "tracks_obj.params['ISO_THRESH'] = 8\n",
    "tracks_obj.params['MAX_DISPARITY'] = 999\n",
    "tracks_obj.params['MAX_FLOW_MAG'] = 50\n",
    "tracks_obj.params['MAX_SHIFT_DISP'] = 15\n",
    "tracks_obj.params['MIN_SIZE'] = 32\n",
    "tracks_obj.params['SEARCH_MARGIN'] = 4000\n",
    "\n",
    "# Printing parameter values to screen\n",
    "# print(tracks_obj.params)\n",
    "\n",
    "# Get tracks from grid generator\n",
    "tracks_obj.get_tracks(grid_gen)"
   ]
  },
  {
   "cell_type": "code",
   "execution_count": null,
   "metadata": {},
   "outputs": [
    {
     "name": "stdout",
     "output_type": "stream",
     "text": [
      "/home/jhemedinger/suli_projects/precipitation-onset/plots/sat_tracks.mp4 already exists, removing file\n",
      "/home/jhemedinger/suli_projects/precipitation-onset/plots/sat_tracks_frames already exists, removing directory\n"
     ]
    }
   ],
   "source": [
    "# Checking if an mp4 file already exists, if true then the file is deleted\n",
    "# If animate function below is ran without deleting existing mp4 file\n",
    "# the original file will not be overwritten and an error will occur\n",
    "\n",
    "if os.path.exists('/home/jhemedinger/suli_projects/precipitation-onset/plots/sat_tracks.mp4'):\n",
    "    print('/home/jhemedinger/suli_projects/precipitation-onset/plots/sat_tracks.mp4'\n",
    "          + ' already exists, removing file')\n",
    "    os.remove('/home/jhemedinger/suli_projects/precipitation-onset/plots/sat_tracks.mp4')\n",
    "\n",
    "if os.path.exists('/home/jhemedinger/suli_projects/precipitation-onset/plots/sat_tracks_frames'):\n",
    "    print('/home/jhemedinger/suli_projects/precipitation-onset/plots/sat_tracks_frames'\n",
    "          + ' already exists, removing directory')\n",
    "    shutil.rmtree('/home/jhemedinger/suli_projects/precipitation-onset/plots/sat_tracks_frames')"
   ]
  },
  {
   "cell_type": "code",
   "execution_count": null,
   "metadata": {},
   "outputs": [
    {
     "name": "stdout",
     "output_type": "stream",
     "text": [
      "Animating 60 frames\n",
      "Frame: 0\n"
     ]
    },
    {
     "name": "stderr",
     "output_type": "stream",
     "text": [
      "/home/jhemedinger/anaconda3/envs/goes_env/lib/python3.6/site-packages/pyart/graph/gridmapdisplay.py:72: DeprecationWarning: GridMapDisplay will be switching to Cartopy in the next Py-ART release 1.11.0. Basemap is still optional to use in GridMapDisplayBasemap but there will be no support if an error appears.\n",
      "  DeprecationWarning)\n",
      "/home/jhemedinger/anaconda3/envs/goes_env/lib/python3.6/site-packages/mpl_toolkits/basemap/__init__.py:4759: DeprecationWarning: The truth value of an empty array is ambiguous. Returning False, but in future this will result in an error. Use `array.size > 0` to check that an array is not empty.\n",
      "  if fix_wrap_around and itemindex:\n"
     ]
    },
    {
     "name": "stdout",
     "output_type": "stream",
     "text": [
      "Frame: 1\n"
     ]
    },
    {
     "name": "stderr",
     "output_type": "stream",
     "text": [
      "/home/jhemedinger/anaconda3/envs/goes_env/lib/python3.6/site-packages/pyart/graph/gridmapdisplay.py:72: DeprecationWarning: GridMapDisplay will be switching to Cartopy in the next Py-ART release 1.11.0. Basemap is still optional to use in GridMapDisplayBasemap but there will be no support if an error appears.\n",
      "  DeprecationWarning)\n",
      "/home/jhemedinger/anaconda3/envs/goes_env/lib/python3.6/site-packages/mpl_toolkits/basemap/__init__.py:4759: DeprecationWarning: The truth value of an empty array is ambiguous. Returning False, but in future this will result in an error. Use `array.size > 0` to check that an array is not empty.\n",
      "  if fix_wrap_around and itemindex:\n"
     ]
    },
    {
     "name": "stdout",
     "output_type": "stream",
     "text": [
      "Frame: 2\n"
     ]
    },
    {
     "name": "stderr",
     "output_type": "stream",
     "text": [
      "/home/jhemedinger/anaconda3/envs/goes_env/lib/python3.6/site-packages/pyart/graph/gridmapdisplay.py:72: DeprecationWarning: GridMapDisplay will be switching to Cartopy in the next Py-ART release 1.11.0. Basemap is still optional to use in GridMapDisplayBasemap but there will be no support if an error appears.\n",
      "  DeprecationWarning)\n",
      "/home/jhemedinger/anaconda3/envs/goes_env/lib/python3.6/site-packages/mpl_toolkits/basemap/__init__.py:4759: DeprecationWarning: The truth value of an empty array is ambiguous. Returning False, but in future this will result in an error. Use `array.size > 0` to check that an array is not empty.\n",
      "  if fix_wrap_around and itemindex:\n"
     ]
    },
    {
     "name": "stdout",
     "output_type": "stream",
     "text": [
      "Frame: 3\n"
     ]
    },
    {
     "name": "stderr",
     "output_type": "stream",
     "text": [
      "/home/jhemedinger/anaconda3/envs/goes_env/lib/python3.6/site-packages/pyart/graph/gridmapdisplay.py:72: DeprecationWarning: GridMapDisplay will be switching to Cartopy in the next Py-ART release 1.11.0. Basemap is still optional to use in GridMapDisplayBasemap but there will be no support if an error appears.\n",
      "  DeprecationWarning)\n",
      "/home/jhemedinger/anaconda3/envs/goes_env/lib/python3.6/site-packages/mpl_toolkits/basemap/__init__.py:4759: DeprecationWarning: The truth value of an empty array is ambiguous. Returning False, but in future this will result in an error. Use `array.size > 0` to check that an array is not empty.\n",
      "  if fix_wrap_around and itemindex:\n"
     ]
    },
    {
     "name": "stdout",
     "output_type": "stream",
     "text": [
      "Frame: 4\n"
     ]
    },
    {
     "name": "stderr",
     "output_type": "stream",
     "text": [
      "/home/jhemedinger/anaconda3/envs/goes_env/lib/python3.6/site-packages/pyart/graph/gridmapdisplay.py:72: DeprecationWarning: GridMapDisplay will be switching to Cartopy in the next Py-ART release 1.11.0. Basemap is still optional to use in GridMapDisplayBasemap but there will be no support if an error appears.\n",
      "  DeprecationWarning)\n",
      "/home/jhemedinger/anaconda3/envs/goes_env/lib/python3.6/site-packages/mpl_toolkits/basemap/__init__.py:4759: DeprecationWarning: The truth value of an empty array is ambiguous. Returning False, but in future this will result in an error. Use `array.size > 0` to check that an array is not empty.\n",
      "  if fix_wrap_around and itemindex:\n"
     ]
    },
    {
     "name": "stdout",
     "output_type": "stream",
     "text": [
      "Frame: 5\n"
     ]
    },
    {
     "name": "stderr",
     "output_type": "stream",
     "text": [
      "/home/jhemedinger/anaconda3/envs/goes_env/lib/python3.6/site-packages/pyart/graph/gridmapdisplay.py:72: DeprecationWarning: GridMapDisplay will be switching to Cartopy in the next Py-ART release 1.11.0. Basemap is still optional to use in GridMapDisplayBasemap but there will be no support if an error appears.\n",
      "  DeprecationWarning)\n",
      "/home/jhemedinger/anaconda3/envs/goes_env/lib/python3.6/site-packages/mpl_toolkits/basemap/__init__.py:4759: DeprecationWarning: The truth value of an empty array is ambiguous. Returning False, but in future this will result in an error. Use `array.size > 0` to check that an array is not empty.\n",
      "  if fix_wrap_around and itemindex:\n"
     ]
    },
    {
     "name": "stdout",
     "output_type": "stream",
     "text": [
      "Frame: 6\n"
     ]
    },
    {
     "name": "stderr",
     "output_type": "stream",
     "text": [
      "/home/jhemedinger/anaconda3/envs/goes_env/lib/python3.6/site-packages/pyart/graph/gridmapdisplay.py:72: DeprecationWarning: GridMapDisplay will be switching to Cartopy in the next Py-ART release 1.11.0. Basemap is still optional to use in GridMapDisplayBasemap but there will be no support if an error appears.\n",
      "  DeprecationWarning)\n",
      "/home/jhemedinger/anaconda3/envs/goes_env/lib/python3.6/site-packages/mpl_toolkits/basemap/__init__.py:4759: DeprecationWarning: The truth value of an empty array is ambiguous. Returning False, but in future this will result in an error. Use `array.size > 0` to check that an array is not empty.\n",
      "  if fix_wrap_around and itemindex:\n"
     ]
    },
    {
     "name": "stdout",
     "output_type": "stream",
     "text": [
      "Frame: 7\n"
     ]
    },
    {
     "name": "stderr",
     "output_type": "stream",
     "text": [
      "/home/jhemedinger/anaconda3/envs/goes_env/lib/python3.6/site-packages/pyart/graph/gridmapdisplay.py:72: DeprecationWarning: GridMapDisplay will be switching to Cartopy in the next Py-ART release 1.11.0. Basemap is still optional to use in GridMapDisplayBasemap but there will be no support if an error appears.\n",
      "  DeprecationWarning)\n",
      "/home/jhemedinger/anaconda3/envs/goes_env/lib/python3.6/site-packages/mpl_toolkits/basemap/__init__.py:4759: DeprecationWarning: The truth value of an empty array is ambiguous. Returning False, but in future this will result in an error. Use `array.size > 0` to check that an array is not empty.\n",
      "  if fix_wrap_around and itemindex:\n"
     ]
    },
    {
     "name": "stdout",
     "output_type": "stream",
     "text": [
      "Frame: 8\n"
     ]
    },
    {
     "name": "stderr",
     "output_type": "stream",
     "text": [
      "/home/jhemedinger/anaconda3/envs/goes_env/lib/python3.6/site-packages/pyart/graph/gridmapdisplay.py:72: DeprecationWarning: GridMapDisplay will be switching to Cartopy in the next Py-ART release 1.11.0. Basemap is still optional to use in GridMapDisplayBasemap but there will be no support if an error appears.\n",
      "  DeprecationWarning)\n",
      "/home/jhemedinger/anaconda3/envs/goes_env/lib/python3.6/site-packages/mpl_toolkits/basemap/__init__.py:4759: DeprecationWarning: The truth value of an empty array is ambiguous. Returning False, but in future this will result in an error. Use `array.size > 0` to check that an array is not empty.\n",
      "  if fix_wrap_around and itemindex:\n"
     ]
    },
    {
     "name": "stdout",
     "output_type": "stream",
     "text": [
      "Frame: 9\n"
     ]
    },
    {
     "name": "stderr",
     "output_type": "stream",
     "text": [
      "/home/jhemedinger/anaconda3/envs/goes_env/lib/python3.6/site-packages/pyart/graph/gridmapdisplay.py:72: DeprecationWarning: GridMapDisplay will be switching to Cartopy in the next Py-ART release 1.11.0. Basemap is still optional to use in GridMapDisplayBasemap but there will be no support if an error appears.\n",
      "  DeprecationWarning)\n",
      "/home/jhemedinger/anaconda3/envs/goes_env/lib/python3.6/site-packages/mpl_toolkits/basemap/__init__.py:4759: DeprecationWarning: The truth value of an empty array is ambiguous. Returning False, but in future this will result in an error. Use `array.size > 0` to check that an array is not empty.\n",
      "  if fix_wrap_around and itemindex:\n"
     ]
    },
    {
     "name": "stdout",
     "output_type": "stream",
     "text": [
      "Frame: 10\n"
     ]
    },
    {
     "name": "stderr",
     "output_type": "stream",
     "text": [
      "/home/jhemedinger/anaconda3/envs/goes_env/lib/python3.6/site-packages/pyart/graph/gridmapdisplay.py:72: DeprecationWarning: GridMapDisplay will be switching to Cartopy in the next Py-ART release 1.11.0. Basemap is still optional to use in GridMapDisplayBasemap but there will be no support if an error appears.\n",
      "  DeprecationWarning)\n",
      "/home/jhemedinger/anaconda3/envs/goes_env/lib/python3.6/site-packages/mpl_toolkits/basemap/__init__.py:4759: DeprecationWarning: The truth value of an empty array is ambiguous. Returning False, but in future this will result in an error. Use `array.size > 0` to check that an array is not empty.\n",
      "  if fix_wrap_around and itemindex:\n"
     ]
    },
    {
     "name": "stdout",
     "output_type": "stream",
     "text": [
      "Frame: 11\n"
     ]
    },
    {
     "name": "stderr",
     "output_type": "stream",
     "text": [
      "/home/jhemedinger/anaconda3/envs/goes_env/lib/python3.6/site-packages/pyart/graph/gridmapdisplay.py:72: DeprecationWarning: GridMapDisplay will be switching to Cartopy in the next Py-ART release 1.11.0. Basemap is still optional to use in GridMapDisplayBasemap but there will be no support if an error appears.\n",
      "  DeprecationWarning)\n",
      "/home/jhemedinger/anaconda3/envs/goes_env/lib/python3.6/site-packages/mpl_toolkits/basemap/__init__.py:4759: DeprecationWarning: The truth value of an empty array is ambiguous. Returning False, but in future this will result in an error. Use `array.size > 0` to check that an array is not empty.\n",
      "  if fix_wrap_around and itemindex:\n"
     ]
    },
    {
     "name": "stdout",
     "output_type": "stream",
     "text": [
      "Frame: 12\n"
     ]
    },
    {
     "name": "stderr",
     "output_type": "stream",
     "text": [
      "/home/jhemedinger/anaconda3/envs/goes_env/lib/python3.6/site-packages/pyart/graph/gridmapdisplay.py:72: DeprecationWarning: GridMapDisplay will be switching to Cartopy in the next Py-ART release 1.11.0. Basemap is still optional to use in GridMapDisplayBasemap but there will be no support if an error appears.\n",
      "  DeprecationWarning)\n",
      "/home/jhemedinger/anaconda3/envs/goes_env/lib/python3.6/site-packages/mpl_toolkits/basemap/__init__.py:4759: DeprecationWarning: The truth value of an empty array is ambiguous. Returning False, but in future this will result in an error. Use `array.size > 0` to check that an array is not empty.\n",
      "  if fix_wrap_around and itemindex:\n"
     ]
    },
    {
     "name": "stdout",
     "output_type": "stream",
     "text": [
      "Frame: 13\n"
     ]
    },
    {
     "name": "stderr",
     "output_type": "stream",
     "text": [
      "/home/jhemedinger/anaconda3/envs/goes_env/lib/python3.6/site-packages/pyart/graph/gridmapdisplay.py:72: DeprecationWarning: GridMapDisplay will be switching to Cartopy in the next Py-ART release 1.11.0. Basemap is still optional to use in GridMapDisplayBasemap but there will be no support if an error appears.\n",
      "  DeprecationWarning)\n",
      "/home/jhemedinger/anaconda3/envs/goes_env/lib/python3.6/site-packages/mpl_toolkits/basemap/__init__.py:4759: DeprecationWarning: The truth value of an empty array is ambiguous. Returning False, but in future this will result in an error. Use `array.size > 0` to check that an array is not empty.\n",
      "  if fix_wrap_around and itemindex:\n"
     ]
    },
    {
     "name": "stdout",
     "output_type": "stream",
     "text": [
      "Frame: 14\n"
     ]
    },
    {
     "name": "stderr",
     "output_type": "stream",
     "text": [
      "/home/jhemedinger/anaconda3/envs/goes_env/lib/python3.6/site-packages/pyart/graph/gridmapdisplay.py:72: DeprecationWarning: GridMapDisplay will be switching to Cartopy in the next Py-ART release 1.11.0. Basemap is still optional to use in GridMapDisplayBasemap but there will be no support if an error appears.\n",
      "  DeprecationWarning)\n",
      "/home/jhemedinger/anaconda3/envs/goes_env/lib/python3.6/site-packages/mpl_toolkits/basemap/__init__.py:4759: DeprecationWarning: The truth value of an empty array is ambiguous. Returning False, but in future this will result in an error. Use `array.size > 0` to check that an array is not empty.\n",
      "  if fix_wrap_around and itemindex:\n"
     ]
    },
    {
     "name": "stdout",
     "output_type": "stream",
     "text": [
      "Frame: 15\n"
     ]
    },
    {
     "name": "stderr",
     "output_type": "stream",
     "text": [
      "/home/jhemedinger/anaconda3/envs/goes_env/lib/python3.6/site-packages/pyart/graph/gridmapdisplay.py:72: DeprecationWarning: GridMapDisplay will be switching to Cartopy in the next Py-ART release 1.11.0. Basemap is still optional to use in GridMapDisplayBasemap but there will be no support if an error appears.\n",
      "  DeprecationWarning)\n",
      "/home/jhemedinger/anaconda3/envs/goes_env/lib/python3.6/site-packages/mpl_toolkits/basemap/__init__.py:4759: DeprecationWarning: The truth value of an empty array is ambiguous. Returning False, but in future this will result in an error. Use `array.size > 0` to check that an array is not empty.\n",
      "  if fix_wrap_around and itemindex:\n"
     ]
    },
    {
     "name": "stdout",
     "output_type": "stream",
     "text": [
      "Frame: 16\n"
     ]
    },
    {
     "name": "stderr",
     "output_type": "stream",
     "text": [
      "/home/jhemedinger/anaconda3/envs/goes_env/lib/python3.6/site-packages/pyart/graph/gridmapdisplay.py:72: DeprecationWarning: GridMapDisplay will be switching to Cartopy in the next Py-ART release 1.11.0. Basemap is still optional to use in GridMapDisplayBasemap but there will be no support if an error appears.\n",
      "  DeprecationWarning)\n",
      "/home/jhemedinger/anaconda3/envs/goes_env/lib/python3.6/site-packages/mpl_toolkits/basemap/__init__.py:4759: DeprecationWarning: The truth value of an empty array is ambiguous. Returning False, but in future this will result in an error. Use `array.size > 0` to check that an array is not empty.\n",
      "  if fix_wrap_around and itemindex:\n"
     ]
    },
    {
     "name": "stdout",
     "output_type": "stream",
     "text": [
      "Frame: 17\n"
     ]
    },
    {
     "name": "stderr",
     "output_type": "stream",
     "text": [
      "/home/jhemedinger/anaconda3/envs/goes_env/lib/python3.6/site-packages/pyart/graph/gridmapdisplay.py:72: DeprecationWarning: GridMapDisplay will be switching to Cartopy in the next Py-ART release 1.11.0. Basemap is still optional to use in GridMapDisplayBasemap but there will be no support if an error appears.\n",
      "  DeprecationWarning)\n",
      "/home/jhemedinger/anaconda3/envs/goes_env/lib/python3.6/site-packages/mpl_toolkits/basemap/__init__.py:4759: DeprecationWarning: The truth value of an empty array is ambiguous. Returning False, but in future this will result in an error. Use `array.size > 0` to check that an array is not empty.\n",
      "  if fix_wrap_around and itemindex:\n"
     ]
    },
    {
     "name": "stdout",
     "output_type": "stream",
     "text": [
      "Frame: 18\n"
     ]
    },
    {
     "name": "stderr",
     "output_type": "stream",
     "text": [
      "/home/jhemedinger/anaconda3/envs/goes_env/lib/python3.6/site-packages/pyart/graph/gridmapdisplay.py:72: DeprecationWarning: GridMapDisplay will be switching to Cartopy in the next Py-ART release 1.11.0. Basemap is still optional to use in GridMapDisplayBasemap but there will be no support if an error appears.\n",
      "  DeprecationWarning)\n",
      "/home/jhemedinger/anaconda3/envs/goes_env/lib/python3.6/site-packages/mpl_toolkits/basemap/__init__.py:4759: DeprecationWarning: The truth value of an empty array is ambiguous. Returning False, but in future this will result in an error. Use `array.size > 0` to check that an array is not empty.\n",
      "  if fix_wrap_around and itemindex:\n"
     ]
    },
    {
     "name": "stdout",
     "output_type": "stream",
     "text": [
      "Frame: 19\n"
     ]
    },
    {
     "name": "stderr",
     "output_type": "stream",
     "text": [
      "/home/jhemedinger/anaconda3/envs/goes_env/lib/python3.6/site-packages/pyart/graph/gridmapdisplay.py:72: DeprecationWarning: GridMapDisplay will be switching to Cartopy in the next Py-ART release 1.11.0. Basemap is still optional to use in GridMapDisplayBasemap but there will be no support if an error appears.\n",
      "  DeprecationWarning)\n",
      "/home/jhemedinger/anaconda3/envs/goes_env/lib/python3.6/site-packages/mpl_toolkits/basemap/__init__.py:4759: DeprecationWarning: The truth value of an empty array is ambiguous. Returning False, but in future this will result in an error. Use `array.size > 0` to check that an array is not empty.\n",
      "  if fix_wrap_around and itemindex:\n"
     ]
    },
    {
     "name": "stdout",
     "output_type": "stream",
     "text": [
      "Frame: 20\n"
     ]
    },
    {
     "name": "stderr",
     "output_type": "stream",
     "text": [
      "/home/jhemedinger/anaconda3/envs/goes_env/lib/python3.6/site-packages/pyart/graph/gridmapdisplay.py:72: DeprecationWarning: GridMapDisplay will be switching to Cartopy in the next Py-ART release 1.11.0. Basemap is still optional to use in GridMapDisplayBasemap but there will be no support if an error appears.\n",
      "  DeprecationWarning)\n",
      "/home/jhemedinger/anaconda3/envs/goes_env/lib/python3.6/site-packages/mpl_toolkits/basemap/__init__.py:4759: DeprecationWarning: The truth value of an empty array is ambiguous. Returning False, but in future this will result in an error. Use `array.size > 0` to check that an array is not empty.\n",
      "  if fix_wrap_around and itemindex:\n"
     ]
    },
    {
     "name": "stdout",
     "output_type": "stream",
     "text": [
      "Frame: 21\n"
     ]
    },
    {
     "name": "stderr",
     "output_type": "stream",
     "text": [
      "/home/jhemedinger/anaconda3/envs/goes_env/lib/python3.6/site-packages/pyart/graph/gridmapdisplay.py:72: DeprecationWarning: GridMapDisplay will be switching to Cartopy in the next Py-ART release 1.11.0. Basemap is still optional to use in GridMapDisplayBasemap but there will be no support if an error appears.\n",
      "  DeprecationWarning)\n",
      "/home/jhemedinger/anaconda3/envs/goes_env/lib/python3.6/site-packages/mpl_toolkits/basemap/__init__.py:4759: DeprecationWarning: The truth value of an empty array is ambiguous. Returning False, but in future this will result in an error. Use `array.size > 0` to check that an array is not empty.\n",
      "  if fix_wrap_around and itemindex:\n"
     ]
    },
    {
     "name": "stdout",
     "output_type": "stream",
     "text": [
      "Frame: 22\n"
     ]
    },
    {
     "name": "stderr",
     "output_type": "stream",
     "text": [
      "/home/jhemedinger/anaconda3/envs/goes_env/lib/python3.6/site-packages/pyart/graph/gridmapdisplay.py:72: DeprecationWarning: GridMapDisplay will be switching to Cartopy in the next Py-ART release 1.11.0. Basemap is still optional to use in GridMapDisplayBasemap but there will be no support if an error appears.\n",
      "  DeprecationWarning)\n",
      "/home/jhemedinger/anaconda3/envs/goes_env/lib/python3.6/site-packages/mpl_toolkits/basemap/__init__.py:4759: DeprecationWarning: The truth value of an empty array is ambiguous. Returning False, but in future this will result in an error. Use `array.size > 0` to check that an array is not empty.\n",
      "  if fix_wrap_around and itemindex:\n"
     ]
    },
    {
     "name": "stdout",
     "output_type": "stream",
     "text": [
      "Frame: 23\n"
     ]
    },
    {
     "name": "stderr",
     "output_type": "stream",
     "text": [
      "/home/jhemedinger/anaconda3/envs/goes_env/lib/python3.6/site-packages/pyart/graph/gridmapdisplay.py:72: DeprecationWarning: GridMapDisplay will be switching to Cartopy in the next Py-ART release 1.11.0. Basemap is still optional to use in GridMapDisplayBasemap but there will be no support if an error appears.\n",
      "  DeprecationWarning)\n",
      "/home/jhemedinger/anaconda3/envs/goes_env/lib/python3.6/site-packages/mpl_toolkits/basemap/__init__.py:4759: DeprecationWarning: The truth value of an empty array is ambiguous. Returning False, but in future this will result in an error. Use `array.size > 0` to check that an array is not empty.\n",
      "  if fix_wrap_around and itemindex:\n"
     ]
    },
    {
     "name": "stdout",
     "output_type": "stream",
     "text": [
      "Frame: 24\n"
     ]
    },
    {
     "name": "stderr",
     "output_type": "stream",
     "text": [
      "/home/jhemedinger/anaconda3/envs/goes_env/lib/python3.6/site-packages/pyart/graph/gridmapdisplay.py:72: DeprecationWarning: GridMapDisplay will be switching to Cartopy in the next Py-ART release 1.11.0. Basemap is still optional to use in GridMapDisplayBasemap but there will be no support if an error appears.\n",
      "  DeprecationWarning)\n",
      "/home/jhemedinger/anaconda3/envs/goes_env/lib/python3.6/site-packages/mpl_toolkits/basemap/__init__.py:4759: DeprecationWarning: The truth value of an empty array is ambiguous. Returning False, but in future this will result in an error. Use `array.size > 0` to check that an array is not empty.\n",
      "  if fix_wrap_around and itemindex:\n"
     ]
    },
    {
     "name": "stdout",
     "output_type": "stream",
     "text": [
      "Frame: 25\n"
     ]
    },
    {
     "name": "stderr",
     "output_type": "stream",
     "text": [
      "/home/jhemedinger/anaconda3/envs/goes_env/lib/python3.6/site-packages/pyart/graph/gridmapdisplay.py:72: DeprecationWarning: GridMapDisplay will be switching to Cartopy in the next Py-ART release 1.11.0. Basemap is still optional to use in GridMapDisplayBasemap but there will be no support if an error appears.\n",
      "  DeprecationWarning)\n",
      "/home/jhemedinger/anaconda3/envs/goes_env/lib/python3.6/site-packages/mpl_toolkits/basemap/__init__.py:4759: DeprecationWarning: The truth value of an empty array is ambiguous. Returning False, but in future this will result in an error. Use `array.size > 0` to check that an array is not empty.\n",
      "  if fix_wrap_around and itemindex:\n"
     ]
    },
    {
     "name": "stdout",
     "output_type": "stream",
     "text": [
      "Frame: 26\n"
     ]
    },
    {
     "name": "stderr",
     "output_type": "stream",
     "text": [
      "/home/jhemedinger/anaconda3/envs/goes_env/lib/python3.6/site-packages/pyart/graph/gridmapdisplay.py:72: DeprecationWarning: GridMapDisplay will be switching to Cartopy in the next Py-ART release 1.11.0. Basemap is still optional to use in GridMapDisplayBasemap but there will be no support if an error appears.\n",
      "  DeprecationWarning)\n",
      "/home/jhemedinger/anaconda3/envs/goes_env/lib/python3.6/site-packages/mpl_toolkits/basemap/__init__.py:4759: DeprecationWarning: The truth value of an empty array is ambiguous. Returning False, but in future this will result in an error. Use `array.size > 0` to check that an array is not empty.\n",
      "  if fix_wrap_around and itemindex:\n"
     ]
    },
    {
     "name": "stdout",
     "output_type": "stream",
     "text": [
      "Frame: 27\n"
     ]
    },
    {
     "name": "stderr",
     "output_type": "stream",
     "text": [
      "/home/jhemedinger/anaconda3/envs/goes_env/lib/python3.6/site-packages/pyart/graph/gridmapdisplay.py:72: DeprecationWarning: GridMapDisplay will be switching to Cartopy in the next Py-ART release 1.11.0. Basemap is still optional to use in GridMapDisplayBasemap but there will be no support if an error appears.\n",
      "  DeprecationWarning)\n",
      "/home/jhemedinger/anaconda3/envs/goes_env/lib/python3.6/site-packages/mpl_toolkits/basemap/__init__.py:4759: DeprecationWarning: The truth value of an empty array is ambiguous. Returning False, but in future this will result in an error. Use `array.size > 0` to check that an array is not empty.\n",
      "  if fix_wrap_around and itemindex:\n"
     ]
    },
    {
     "name": "stdout",
     "output_type": "stream",
     "text": [
      "Frame: 28\n"
     ]
    },
    {
     "name": "stderr",
     "output_type": "stream",
     "text": [
      "/home/jhemedinger/anaconda3/envs/goes_env/lib/python3.6/site-packages/pyart/graph/gridmapdisplay.py:72: DeprecationWarning: GridMapDisplay will be switching to Cartopy in the next Py-ART release 1.11.0. Basemap is still optional to use in GridMapDisplayBasemap but there will be no support if an error appears.\n",
      "  DeprecationWarning)\n",
      "/home/jhemedinger/anaconda3/envs/goes_env/lib/python3.6/site-packages/mpl_toolkits/basemap/__init__.py:4759: DeprecationWarning: The truth value of an empty array is ambiguous. Returning False, but in future this will result in an error. Use `array.size > 0` to check that an array is not empty.\n",
      "  if fix_wrap_around and itemindex:\n"
     ]
    },
    {
     "name": "stdout",
     "output_type": "stream",
     "text": [
      "Frame: 29\n"
     ]
    },
    {
     "name": "stderr",
     "output_type": "stream",
     "text": [
      "/home/jhemedinger/anaconda3/envs/goes_env/lib/python3.6/site-packages/pyart/graph/gridmapdisplay.py:72: DeprecationWarning: GridMapDisplay will be switching to Cartopy in the next Py-ART release 1.11.0. Basemap is still optional to use in GridMapDisplayBasemap but there will be no support if an error appears.\n",
      "  DeprecationWarning)\n",
      "/home/jhemedinger/anaconda3/envs/goes_env/lib/python3.6/site-packages/mpl_toolkits/basemap/__init__.py:4759: DeprecationWarning: The truth value of an empty array is ambiguous. Returning False, but in future this will result in an error. Use `array.size > 0` to check that an array is not empty.\n",
      "  if fix_wrap_around and itemindex:\n"
     ]
    },
    {
     "name": "stdout",
     "output_type": "stream",
     "text": [
      "Frame: 30\n"
     ]
    },
    {
     "name": "stderr",
     "output_type": "stream",
     "text": [
      "/home/jhemedinger/anaconda3/envs/goes_env/lib/python3.6/site-packages/pyart/graph/gridmapdisplay.py:72: DeprecationWarning: GridMapDisplay will be switching to Cartopy in the next Py-ART release 1.11.0. Basemap is still optional to use in GridMapDisplayBasemap but there will be no support if an error appears.\n",
      "  DeprecationWarning)\n",
      "/home/jhemedinger/anaconda3/envs/goes_env/lib/python3.6/site-packages/mpl_toolkits/basemap/__init__.py:4759: DeprecationWarning: The truth value of an empty array is ambiguous. Returning False, but in future this will result in an error. Use `array.size > 0` to check that an array is not empty.\n",
      "  if fix_wrap_around and itemindex:\n"
     ]
    },
    {
     "name": "stdout",
     "output_type": "stream",
     "text": [
      "Frame: 31\n"
     ]
    },
    {
     "name": "stderr",
     "output_type": "stream",
     "text": [
      "/home/jhemedinger/anaconda3/envs/goes_env/lib/python3.6/site-packages/pyart/graph/gridmapdisplay.py:72: DeprecationWarning: GridMapDisplay will be switching to Cartopy in the next Py-ART release 1.11.0. Basemap is still optional to use in GridMapDisplayBasemap but there will be no support if an error appears.\n",
      "  DeprecationWarning)\n",
      "/home/jhemedinger/anaconda3/envs/goes_env/lib/python3.6/site-packages/mpl_toolkits/basemap/__init__.py:4759: DeprecationWarning: The truth value of an empty array is ambiguous. Returning False, but in future this will result in an error. Use `array.size > 0` to check that an array is not empty.\n",
      "  if fix_wrap_around and itemindex:\n"
     ]
    },
    {
     "name": "stdout",
     "output_type": "stream",
     "text": [
      "Frame: 32\n"
     ]
    },
    {
     "name": "stderr",
     "output_type": "stream",
     "text": [
      "/home/jhemedinger/anaconda3/envs/goes_env/lib/python3.6/site-packages/pyart/graph/gridmapdisplay.py:72: DeprecationWarning: GridMapDisplay will be switching to Cartopy in the next Py-ART release 1.11.0. Basemap is still optional to use in GridMapDisplayBasemap but there will be no support if an error appears.\n",
      "  DeprecationWarning)\n",
      "/home/jhemedinger/anaconda3/envs/goes_env/lib/python3.6/site-packages/mpl_toolkits/basemap/__init__.py:4759: DeprecationWarning: The truth value of an empty array is ambiguous. Returning False, but in future this will result in an error. Use `array.size > 0` to check that an array is not empty.\n",
      "  if fix_wrap_around and itemindex:\n"
     ]
    },
    {
     "name": "stdout",
     "output_type": "stream",
     "text": [
      "Frame: 33\n"
     ]
    },
    {
     "name": "stderr",
     "output_type": "stream",
     "text": [
      "/home/jhemedinger/anaconda3/envs/goes_env/lib/python3.6/site-packages/pyart/graph/gridmapdisplay.py:72: DeprecationWarning: GridMapDisplay will be switching to Cartopy in the next Py-ART release 1.11.0. Basemap is still optional to use in GridMapDisplayBasemap but there will be no support if an error appears.\n",
      "  DeprecationWarning)\n",
      "/home/jhemedinger/anaconda3/envs/goes_env/lib/python3.6/site-packages/mpl_toolkits/basemap/__init__.py:4759: DeprecationWarning: The truth value of an empty array is ambiguous. Returning False, but in future this will result in an error. Use `array.size > 0` to check that an array is not empty.\n",
      "  if fix_wrap_around and itemindex:\n"
     ]
    },
    {
     "name": "stdout",
     "output_type": "stream",
     "text": [
      "Frame: 34\n"
     ]
    },
    {
     "name": "stderr",
     "output_type": "stream",
     "text": [
      "/home/jhemedinger/anaconda3/envs/goes_env/lib/python3.6/site-packages/pyart/graph/gridmapdisplay.py:72: DeprecationWarning: GridMapDisplay will be switching to Cartopy in the next Py-ART release 1.11.0. Basemap is still optional to use in GridMapDisplayBasemap but there will be no support if an error appears.\n",
      "  DeprecationWarning)\n",
      "/home/jhemedinger/anaconda3/envs/goes_env/lib/python3.6/site-packages/mpl_toolkits/basemap/__init__.py:4759: DeprecationWarning: The truth value of an empty array is ambiguous. Returning False, but in future this will result in an error. Use `array.size > 0` to check that an array is not empty.\n",
      "  if fix_wrap_around and itemindex:\n"
     ]
    },
    {
     "name": "stdout",
     "output_type": "stream",
     "text": [
      "Frame: 35\n"
     ]
    },
    {
     "name": "stderr",
     "output_type": "stream",
     "text": [
      "/home/jhemedinger/anaconda3/envs/goes_env/lib/python3.6/site-packages/pyart/graph/gridmapdisplay.py:72: DeprecationWarning: GridMapDisplay will be switching to Cartopy in the next Py-ART release 1.11.0. Basemap is still optional to use in GridMapDisplayBasemap but there will be no support if an error appears.\n",
      "  DeprecationWarning)\n",
      "/home/jhemedinger/anaconda3/envs/goes_env/lib/python3.6/site-packages/mpl_toolkits/basemap/__init__.py:4759: DeprecationWarning: The truth value of an empty array is ambiguous. Returning False, but in future this will result in an error. Use `array.size > 0` to check that an array is not empty.\n",
      "  if fix_wrap_around and itemindex:\n"
     ]
    },
    {
     "name": "stdout",
     "output_type": "stream",
     "text": [
      "Frame: 36\n"
     ]
    },
    {
     "name": "stderr",
     "output_type": "stream",
     "text": [
      "/home/jhemedinger/anaconda3/envs/goes_env/lib/python3.6/site-packages/pyart/graph/gridmapdisplay.py:72: DeprecationWarning: GridMapDisplay will be switching to Cartopy in the next Py-ART release 1.11.0. Basemap is still optional to use in GridMapDisplayBasemap but there will be no support if an error appears.\n",
      "  DeprecationWarning)\n",
      "/home/jhemedinger/anaconda3/envs/goes_env/lib/python3.6/site-packages/mpl_toolkits/basemap/__init__.py:4759: DeprecationWarning: The truth value of an empty array is ambiguous. Returning False, but in future this will result in an error. Use `array.size > 0` to check that an array is not empty.\n",
      "  if fix_wrap_around and itemindex:\n"
     ]
    },
    {
     "name": "stdout",
     "output_type": "stream",
     "text": [
      "Frame: 37\n"
     ]
    },
    {
     "name": "stderr",
     "output_type": "stream",
     "text": [
      "/home/jhemedinger/anaconda3/envs/goes_env/lib/python3.6/site-packages/pyart/graph/gridmapdisplay.py:72: DeprecationWarning: GridMapDisplay will be switching to Cartopy in the next Py-ART release 1.11.0. Basemap is still optional to use in GridMapDisplayBasemap but there will be no support if an error appears.\n",
      "  DeprecationWarning)\n",
      "/home/jhemedinger/anaconda3/envs/goes_env/lib/python3.6/site-packages/mpl_toolkits/basemap/__init__.py:4759: DeprecationWarning: The truth value of an empty array is ambiguous. Returning False, but in future this will result in an error. Use `array.size > 0` to check that an array is not empty.\n",
      "  if fix_wrap_around and itemindex:\n"
     ]
    },
    {
     "name": "stdout",
     "output_type": "stream",
     "text": [
      "Frame: 38\n"
     ]
    },
    {
     "name": "stderr",
     "output_type": "stream",
     "text": [
      "/home/jhemedinger/anaconda3/envs/goes_env/lib/python3.6/site-packages/pyart/graph/gridmapdisplay.py:72: DeprecationWarning: GridMapDisplay will be switching to Cartopy in the next Py-ART release 1.11.0. Basemap is still optional to use in GridMapDisplayBasemap but there will be no support if an error appears.\n",
      "  DeprecationWarning)\n",
      "/home/jhemedinger/anaconda3/envs/goes_env/lib/python3.6/site-packages/mpl_toolkits/basemap/__init__.py:4759: DeprecationWarning: The truth value of an empty array is ambiguous. Returning False, but in future this will result in an error. Use `array.size > 0` to check that an array is not empty.\n",
      "  if fix_wrap_around and itemindex:\n"
     ]
    },
    {
     "name": "stdout",
     "output_type": "stream",
     "text": [
      "Frame: 39\n"
     ]
    },
    {
     "name": "stderr",
     "output_type": "stream",
     "text": [
      "/home/jhemedinger/anaconda3/envs/goes_env/lib/python3.6/site-packages/pyart/graph/gridmapdisplay.py:72: DeprecationWarning: GridMapDisplay will be switching to Cartopy in the next Py-ART release 1.11.0. Basemap is still optional to use in GridMapDisplayBasemap but there will be no support if an error appears.\n",
      "  DeprecationWarning)\n",
      "/home/jhemedinger/anaconda3/envs/goes_env/lib/python3.6/site-packages/mpl_toolkits/basemap/__init__.py:4759: DeprecationWarning: The truth value of an empty array is ambiguous. Returning False, but in future this will result in an error. Use `array.size > 0` to check that an array is not empty.\n",
      "  if fix_wrap_around and itemindex:\n"
     ]
    },
    {
     "name": "stdout",
     "output_type": "stream",
     "text": [
      "Frame: 40\n"
     ]
    },
    {
     "name": "stderr",
     "output_type": "stream",
     "text": [
      "/home/jhemedinger/anaconda3/envs/goes_env/lib/python3.6/site-packages/pyart/graph/gridmapdisplay.py:72: DeprecationWarning: GridMapDisplay will be switching to Cartopy in the next Py-ART release 1.11.0. Basemap is still optional to use in GridMapDisplayBasemap but there will be no support if an error appears.\n",
      "  DeprecationWarning)\n",
      "/home/jhemedinger/anaconda3/envs/goes_env/lib/python3.6/site-packages/mpl_toolkits/basemap/__init__.py:4759: DeprecationWarning: The truth value of an empty array is ambiguous. Returning False, but in future this will result in an error. Use `array.size > 0` to check that an array is not empty.\n",
      "  if fix_wrap_around and itemindex:\n"
     ]
    },
    {
     "name": "stdout",
     "output_type": "stream",
     "text": [
      "Frame: 41\n"
     ]
    },
    {
     "name": "stderr",
     "output_type": "stream",
     "text": [
      "/home/jhemedinger/anaconda3/envs/goes_env/lib/python3.6/site-packages/pyart/graph/gridmapdisplay.py:72: DeprecationWarning: GridMapDisplay will be switching to Cartopy in the next Py-ART release 1.11.0. Basemap is still optional to use in GridMapDisplayBasemap but there will be no support if an error appears.\n",
      "  DeprecationWarning)\n",
      "/home/jhemedinger/anaconda3/envs/goes_env/lib/python3.6/site-packages/mpl_toolkits/basemap/__init__.py:4759: DeprecationWarning: The truth value of an empty array is ambiguous. Returning False, but in future this will result in an error. Use `array.size > 0` to check that an array is not empty.\n",
      "  if fix_wrap_around and itemindex:\n"
     ]
    },
    {
     "name": "stdout",
     "output_type": "stream",
     "text": [
      "Frame: 42\n"
     ]
    },
    {
     "name": "stderr",
     "output_type": "stream",
     "text": [
      "/home/jhemedinger/anaconda3/envs/goes_env/lib/python3.6/site-packages/pyart/graph/gridmapdisplay.py:72: DeprecationWarning: GridMapDisplay will be switching to Cartopy in the next Py-ART release 1.11.0. Basemap is still optional to use in GridMapDisplayBasemap but there will be no support if an error appears.\n",
      "  DeprecationWarning)\n",
      "/home/jhemedinger/anaconda3/envs/goes_env/lib/python3.6/site-packages/mpl_toolkits/basemap/__init__.py:4759: DeprecationWarning: The truth value of an empty array is ambiguous. Returning False, but in future this will result in an error. Use `array.size > 0` to check that an array is not empty.\n",
      "  if fix_wrap_around and itemindex:\n"
     ]
    },
    {
     "name": "stdout",
     "output_type": "stream",
     "text": [
      "Frame: 43\n"
     ]
    },
    {
     "name": "stderr",
     "output_type": "stream",
     "text": [
      "/home/jhemedinger/anaconda3/envs/goes_env/lib/python3.6/site-packages/pyart/graph/gridmapdisplay.py:72: DeprecationWarning: GridMapDisplay will be switching to Cartopy in the next Py-ART release 1.11.0. Basemap is still optional to use in GridMapDisplayBasemap but there will be no support if an error appears.\n",
      "  DeprecationWarning)\n",
      "/home/jhemedinger/anaconda3/envs/goes_env/lib/python3.6/site-packages/mpl_toolkits/basemap/__init__.py:4759: DeprecationWarning: The truth value of an empty array is ambiguous. Returning False, but in future this will result in an error. Use `array.size > 0` to check that an array is not empty.\n",
      "  if fix_wrap_around and itemindex:\n"
     ]
    },
    {
     "name": "stdout",
     "output_type": "stream",
     "text": [
      "Frame: 44\n"
     ]
    },
    {
     "name": "stderr",
     "output_type": "stream",
     "text": [
      "/home/jhemedinger/anaconda3/envs/goes_env/lib/python3.6/site-packages/pyart/graph/gridmapdisplay.py:72: DeprecationWarning: GridMapDisplay will be switching to Cartopy in the next Py-ART release 1.11.0. Basemap is still optional to use in GridMapDisplayBasemap but there will be no support if an error appears.\n",
      "  DeprecationWarning)\n",
      "/home/jhemedinger/anaconda3/envs/goes_env/lib/python3.6/site-packages/mpl_toolkits/basemap/__init__.py:4759: DeprecationWarning: The truth value of an empty array is ambiguous. Returning False, but in future this will result in an error. Use `array.size > 0` to check that an array is not empty.\n",
      "  if fix_wrap_around and itemindex:\n"
     ]
    },
    {
     "name": "stdout",
     "output_type": "stream",
     "text": [
      "Frame: 45\n"
     ]
    },
    {
     "name": "stderr",
     "output_type": "stream",
     "text": [
      "/home/jhemedinger/anaconda3/envs/goes_env/lib/python3.6/site-packages/pyart/graph/gridmapdisplay.py:72: DeprecationWarning: GridMapDisplay will be switching to Cartopy in the next Py-ART release 1.11.0. Basemap is still optional to use in GridMapDisplayBasemap but there will be no support if an error appears.\n",
      "  DeprecationWarning)\n",
      "/home/jhemedinger/anaconda3/envs/goes_env/lib/python3.6/site-packages/mpl_toolkits/basemap/__init__.py:4759: DeprecationWarning: The truth value of an empty array is ambiguous. Returning False, but in future this will result in an error. Use `array.size > 0` to check that an array is not empty.\n",
      "  if fix_wrap_around and itemindex:\n"
     ]
    },
    {
     "name": "stdout",
     "output_type": "stream",
     "text": [
      "Frame: 46\n"
     ]
    },
    {
     "name": "stderr",
     "output_type": "stream",
     "text": [
      "/home/jhemedinger/anaconda3/envs/goes_env/lib/python3.6/site-packages/pyart/graph/gridmapdisplay.py:72: DeprecationWarning: GridMapDisplay will be switching to Cartopy in the next Py-ART release 1.11.0. Basemap is still optional to use in GridMapDisplayBasemap but there will be no support if an error appears.\n",
      "  DeprecationWarning)\n",
      "/home/jhemedinger/anaconda3/envs/goes_env/lib/python3.6/site-packages/mpl_toolkits/basemap/__init__.py:4759: DeprecationWarning: The truth value of an empty array is ambiguous. Returning False, but in future this will result in an error. Use `array.size > 0` to check that an array is not empty.\n",
      "  if fix_wrap_around and itemindex:\n"
     ]
    },
    {
     "name": "stdout",
     "output_type": "stream",
     "text": [
      "Frame: 47\n"
     ]
    },
    {
     "name": "stderr",
     "output_type": "stream",
     "text": [
      "/home/jhemedinger/anaconda3/envs/goes_env/lib/python3.6/site-packages/pyart/graph/gridmapdisplay.py:72: DeprecationWarning: GridMapDisplay will be switching to Cartopy in the next Py-ART release 1.11.0. Basemap is still optional to use in GridMapDisplayBasemap but there will be no support if an error appears.\n",
      "  DeprecationWarning)\n",
      "/home/jhemedinger/anaconda3/envs/goes_env/lib/python3.6/site-packages/mpl_toolkits/basemap/__init__.py:4759: DeprecationWarning: The truth value of an empty array is ambiguous. Returning False, but in future this will result in an error. Use `array.size > 0` to check that an array is not empty.\n",
      "  if fix_wrap_around and itemindex:\n"
     ]
    },
    {
     "name": "stdout",
     "output_type": "stream",
     "text": [
      "Frame: 48\n"
     ]
    },
    {
     "name": "stderr",
     "output_type": "stream",
     "text": [
      "/home/jhemedinger/anaconda3/envs/goes_env/lib/python3.6/site-packages/pyart/graph/gridmapdisplay.py:72: DeprecationWarning: GridMapDisplay will be switching to Cartopy in the next Py-ART release 1.11.0. Basemap is still optional to use in GridMapDisplayBasemap but there will be no support if an error appears.\n",
      "  DeprecationWarning)\n",
      "/home/jhemedinger/anaconda3/envs/goes_env/lib/python3.6/site-packages/mpl_toolkits/basemap/__init__.py:4759: DeprecationWarning: The truth value of an empty array is ambiguous. Returning False, but in future this will result in an error. Use `array.size > 0` to check that an array is not empty.\n",
      "  if fix_wrap_around and itemindex:\n"
     ]
    },
    {
     "name": "stdout",
     "output_type": "stream",
     "text": [
      "Frame: 49\n"
     ]
    },
    {
     "name": "stderr",
     "output_type": "stream",
     "text": [
      "/home/jhemedinger/anaconda3/envs/goes_env/lib/python3.6/site-packages/pyart/graph/gridmapdisplay.py:72: DeprecationWarning: GridMapDisplay will be switching to Cartopy in the next Py-ART release 1.11.0. Basemap is still optional to use in GridMapDisplayBasemap but there will be no support if an error appears.\n",
      "  DeprecationWarning)\n",
      "/home/jhemedinger/anaconda3/envs/goes_env/lib/python3.6/site-packages/mpl_toolkits/basemap/__init__.py:4759: DeprecationWarning: The truth value of an empty array is ambiguous. Returning False, but in future this will result in an error. Use `array.size > 0` to check that an array is not empty.\n",
      "  if fix_wrap_around and itemindex:\n"
     ]
    },
    {
     "name": "stdout",
     "output_type": "stream",
     "text": [
      "Frame: 50\n"
     ]
    },
    {
     "name": "stderr",
     "output_type": "stream",
     "text": [
      "/home/jhemedinger/anaconda3/envs/goes_env/lib/python3.6/site-packages/pyart/graph/gridmapdisplay.py:72: DeprecationWarning: GridMapDisplay will be switching to Cartopy in the next Py-ART release 1.11.0. Basemap is still optional to use in GridMapDisplayBasemap but there will be no support if an error appears.\n",
      "  DeprecationWarning)\n",
      "/home/jhemedinger/anaconda3/envs/goes_env/lib/python3.6/site-packages/mpl_toolkits/basemap/__init__.py:4759: DeprecationWarning: The truth value of an empty array is ambiguous. Returning False, but in future this will result in an error. Use `array.size > 0` to check that an array is not empty.\n",
      "  if fix_wrap_around and itemindex:\n"
     ]
    },
    {
     "name": "stdout",
     "output_type": "stream",
     "text": [
      "Frame: 51\n"
     ]
    },
    {
     "name": "stderr",
     "output_type": "stream",
     "text": [
      "/home/jhemedinger/anaconda3/envs/goes_env/lib/python3.6/site-packages/pyart/graph/gridmapdisplay.py:72: DeprecationWarning: GridMapDisplay will be switching to Cartopy in the next Py-ART release 1.11.0. Basemap is still optional to use in GridMapDisplayBasemap but there will be no support if an error appears.\n",
      "  DeprecationWarning)\n",
      "/home/jhemedinger/anaconda3/envs/goes_env/lib/python3.6/site-packages/mpl_toolkits/basemap/__init__.py:4759: DeprecationWarning: The truth value of an empty array is ambiguous. Returning False, but in future this will result in an error. Use `array.size > 0` to check that an array is not empty.\n",
      "  if fix_wrap_around and itemindex:\n"
     ]
    },
    {
     "name": "stdout",
     "output_type": "stream",
     "text": [
      "Frame: 52\n"
     ]
    },
    {
     "name": "stderr",
     "output_type": "stream",
     "text": [
      "/home/jhemedinger/anaconda3/envs/goes_env/lib/python3.6/site-packages/pyart/graph/gridmapdisplay.py:72: DeprecationWarning: GridMapDisplay will be switching to Cartopy in the next Py-ART release 1.11.0. Basemap is still optional to use in GridMapDisplayBasemap but there will be no support if an error appears.\n",
      "  DeprecationWarning)\n",
      "/home/jhemedinger/anaconda3/envs/goes_env/lib/python3.6/site-packages/mpl_toolkits/basemap/__init__.py:4759: DeprecationWarning: The truth value of an empty array is ambiguous. Returning False, but in future this will result in an error. Use `array.size > 0` to check that an array is not empty.\n",
      "  if fix_wrap_around and itemindex:\n"
     ]
    },
    {
     "name": "stdout",
     "output_type": "stream",
     "text": [
      "Frame: 53\n"
     ]
    },
    {
     "name": "stderr",
     "output_type": "stream",
     "text": [
      "/home/jhemedinger/anaconda3/envs/goes_env/lib/python3.6/site-packages/pyart/graph/gridmapdisplay.py:72: DeprecationWarning: GridMapDisplay will be switching to Cartopy in the next Py-ART release 1.11.0. Basemap is still optional to use in GridMapDisplayBasemap but there will be no support if an error appears.\n",
      "  DeprecationWarning)\n",
      "/home/jhemedinger/anaconda3/envs/goes_env/lib/python3.6/site-packages/mpl_toolkits/basemap/__init__.py:4759: DeprecationWarning: The truth value of an empty array is ambiguous. Returning False, but in future this will result in an error. Use `array.size > 0` to check that an array is not empty.\n",
      "  if fix_wrap_around and itemindex:\n"
     ]
    },
    {
     "name": "stdout",
     "output_type": "stream",
     "text": [
      "Frame: 54\n"
     ]
    },
    {
     "name": "stderr",
     "output_type": "stream",
     "text": [
      "/home/jhemedinger/anaconda3/envs/goes_env/lib/python3.6/site-packages/pyart/graph/gridmapdisplay.py:72: DeprecationWarning: GridMapDisplay will be switching to Cartopy in the next Py-ART release 1.11.0. Basemap is still optional to use in GridMapDisplayBasemap but there will be no support if an error appears.\n",
      "  DeprecationWarning)\n",
      "/home/jhemedinger/anaconda3/envs/goes_env/lib/python3.6/site-packages/mpl_toolkits/basemap/__init__.py:4759: DeprecationWarning: The truth value of an empty array is ambiguous. Returning False, but in future this will result in an error. Use `array.size > 0` to check that an array is not empty.\n",
      "  if fix_wrap_around and itemindex:\n"
     ]
    },
    {
     "name": "stdout",
     "output_type": "stream",
     "text": [
      "Frame: 55\n"
     ]
    },
    {
     "name": "stderr",
     "output_type": "stream",
     "text": [
      "/home/jhemedinger/anaconda3/envs/goes_env/lib/python3.6/site-packages/pyart/graph/gridmapdisplay.py:72: DeprecationWarning: GridMapDisplay will be switching to Cartopy in the next Py-ART release 1.11.0. Basemap is still optional to use in GridMapDisplayBasemap but there will be no support if an error appears.\n",
      "  DeprecationWarning)\n",
      "/home/jhemedinger/anaconda3/envs/goes_env/lib/python3.6/site-packages/mpl_toolkits/basemap/__init__.py:4759: DeprecationWarning: The truth value of an empty array is ambiguous. Returning False, but in future this will result in an error. Use `array.size > 0` to check that an array is not empty.\n",
      "  if fix_wrap_around and itemindex:\n"
     ]
    },
    {
     "name": "stdout",
     "output_type": "stream",
     "text": [
      "Frame: 56\n"
     ]
    },
    {
     "name": "stderr",
     "output_type": "stream",
     "text": [
      "/home/jhemedinger/anaconda3/envs/goes_env/lib/python3.6/site-packages/pyart/graph/gridmapdisplay.py:72: DeprecationWarning: GridMapDisplay will be switching to Cartopy in the next Py-ART release 1.11.0. Basemap is still optional to use in GridMapDisplayBasemap but there will be no support if an error appears.\n",
      "  DeprecationWarning)\n",
      "/home/jhemedinger/anaconda3/envs/goes_env/lib/python3.6/site-packages/mpl_toolkits/basemap/__init__.py:4759: DeprecationWarning: The truth value of an empty array is ambiguous. Returning False, but in future this will result in an error. Use `array.size > 0` to check that an array is not empty.\n",
      "  if fix_wrap_around and itemindex:\n"
     ]
    }
   ],
   "source": [
    "# Creating a grid generator to be able to read the grids into TINT\n",
    "anim_gen = (pyart.io.read_grid(grid_name) for grid_name in grid_files)\n",
    "\n",
    "# Create animation and saving it to a specific location\n",
    "animate(tracks_obj, anim_gen, '/home/jhemedinger/suli_projects/precipitation-onset/plots/sat_tracks',\n",
    "        keep_frames=True, vmin = -320, vmax = -198, cmap = mymap, tracers=True)"
   ]
  },
  {
   "cell_type": "code",
   "execution_count": null,
   "metadata": {},
   "outputs": [],
   "source": [
    "# Displaying TINT tracks\n",
    "embed_mp4_as_gif('/home/jhemedinger/suli_projects/precipitation-onset/plots/sat_tracks.mp4')"
   ]
  },
  {
   "cell_type": "code",
   "execution_count": null,
   "metadata": {},
   "outputs": [],
   "source": []
  }
 ],
 "metadata": {
  "kernelspec": {
   "display_name": "Python 3",
   "language": "python",
   "name": "python3"
  },
  "language_info": {
   "codemirror_mode": {
    "name": "ipython",
    "version": 3
   },
   "file_extension": ".py",
   "mimetype": "text/x-python",
   "name": "python",
   "nbconvert_exporter": "python",
   "pygments_lexer": "ipython3",
   "version": "3.6.7"
  }
 },
 "nbformat": 4,
 "nbformat_minor": 2
}
